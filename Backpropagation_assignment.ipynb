{
 "cells": [
  {
   "cell_type": "markdown",
   "metadata": {
    "id": "y871RZtRhCEH"
   },
   "source": [
    "# <font color='red'>BackPropagation</font>"
   ]
  },
  {
   "cell_type": "markdown",
   "metadata": {
    "id": "LqePYi-4mFvK"
   },
   "source": [
    "**There will be some functions that start with the word \"grader\" ex: grader_sigmoid(), grader_forwardprop(), grader_backprop() etc, you should not change those function definition.<br><br>Every Grader function has to return True.**"
   ]
  },
  {
   "cell_type": "markdown",
   "metadata": {
    "id": "0huUQ0byiI0I"
   },
   "source": [
    "## <font color='red'>Loading data </font>"
   ]
  },
  {
   "cell_type": "code",
   "execution_count": 2,
   "metadata": {
    "colab": {
     "base_uri": "https://localhost:8080/",
     "height": 50
    },
    "id": "1hSje5CBgcUb",
    "outputId": "66535fa5-f8a2-4792-bc62-7842c93480f7"
   },
   "outputs": [
    {
     "name": "stdout",
     "output_type": "stream",
     "text": [
      "(506, 6)\n",
      "(506, 5) (506,)\n"
     ]
    }
   ],
   "source": [
    "import pickle\n",
    "import numpy as np\n",
    "from tqdm import tqdm\n",
    "import math\n",
    "import matplotlib.pyplot as plt\n",
    "\n",
    "with open('data.pkl', 'rb') as f:\n",
    "    data = pickle.load(f)\n",
    "print(data.shape)\n",
    "X = data[:, :5]\n",
    "y = data[:, -1]\n",
    "print(X.shape, y.shape)"
   ]
  },
  {
   "cell_type": "markdown",
   "metadata": {
    "id": "5JL-0soQistC"
   },
   "source": [
    "# <font color='red'>Computational graph</font>"
   ]
  },
  {
   "cell_type": "markdown",
   "metadata": {
    "id": "nREnTTJ3i0Vd"
   },
   "source": [
    "<img src='https://i.imgur.com/seSGbNS.png'>"
   ]
  },
  {
   "cell_type": "markdown",
   "metadata": {
    "id": "DSPX_H_4i_HT"
   },
   "source": [
    "\n",
    "*  **If you observe the graph, we are having input features [f1, f2, f3, f4, f5] and 9 weights [w1, w2, w3, w4, w5, w6,    w7, w8, w9]**.<br><br>\n",
    "*  **The final output of this graph is a value L which is computed as (Y-Y')^2** "
   ]
  },
  {
   "cell_type": "markdown",
   "metadata": {
    "id": "D54eDEv6jkO4"
   },
   "source": [
    "# <font color='red'>Task 1: Implementing backpropagation and Gradient checking </font>"
   ]
  },
  {
   "cell_type": "markdown",
   "metadata": {
    "id": "qocI1Vzqkod9"
   },
   "source": [
    "<font color='blue'><b>Check this video for better understanding of the computational graphs and back propagation</font>"
   ]
  },
  {
   "cell_type": "code",
   "execution_count": null,
   "metadata": {
    "colab": {
     "base_uri": "https://localhost:8080/",
     "height": 521
    },
    "id": "Wb5WMdwJinlX",
    "outputId": "b10489ec-890a-445a-c6a4-a3e0ea2a66be"
   },
   "outputs": [
    {
     "data": {
      "image/jpeg": "[encoded data removed]",
      "text/html": [
       "\n",
       "        <iframe\n",
       "            width=\"1000\"\n",
       "            height=\"500\"\n",
       "            src=\"https://www.youtube.com/embed/i94OvYb6noo\"\n",
       "            frameborder=\"0\"\n",
       "            allowfullscreen\n",
       "        ></iframe>\n",
       "        "
      ],
      "text/plain": [
       "<IPython.lib.display.YouTubeVideo at 0x7f676b82acf8>"
      ]
     },
     "execution_count": 11,
     "metadata": {
      "tags": []
     },
     "output_type": "execute_result"
    }
   ],
   "source": [
    "from IPython.display import YouTubeVideo\n",
    "YouTubeVideo('i94OvYb6noo',width=\"1000\",height=\"500\")"
   ]
  },
  {
   "cell_type": "markdown",
   "metadata": {
    "id": "2jecTyVRlh-6"
   },
   "source": [
    "\n",
    "*  <b>Write two functions<br>\n",
    "    *  Forward propagation</b>(Write your code in<font color='blue'> def forward_propagation()</b></font>)<br><br>\n",
    "    For easy debugging, we will break the computational graph into 3 parts.\n",
    "\n",
    "    <font color='green'><b>Part 1</b></font></b>\n",
    "    <img src='https://i.imgur.com/0xUaxy6.png'><br><br>\n",
    "    <font color='green'><b>Part 2</b></font></b><br>\n",
    "    <img src='https://i.imgur.com/J29pAJL.png'><br><br>\n",
    "    <font color='green'><b>Part 3</b></font></b>\n",
    "    <img src='https://i.imgur.com/vMyCsd9.png'>\n",
    "\n",
    "    <pre>\n",
    "    <font color='green'>\n",
    "def forward_propagation(X, y, W):\n",
    "        <font color='grey'>\n",
    "        # X: input data point, note that in this assignment you are having 5-d data points\n",
    "        # y: output varible\n",
    "        # W: weight array, its of length 9, W[0] corresponds to w1 in graph, W[1] corresponds to w2 in graph, <br>         ..., W[8] corresponds to w9 in graph.  \n",
    "        # you have to return the following variables\n",
    "        # exp= part1 (compute the forward propagation until exp and then store the values in exp)\n",
    "        # tanh =part2(compute the forward propagation until tanh and then store the values in tanh)\n",
    "        # sig = part3(compute the forward propagation until sigmoid and then store the values in sig)\n",
    "        # now compute remaining values from computional graph and get y'\n",
    "        # write code to compute the value of L=(y-y')^2\n",
    "        # compute derivative of L  w.r.to Y' and store it in dl\n",
    "        # Create a dictionary to store all the intermediate values\n",
    "        # store L, exp,tanh,sig,dl variables\n",
    "        </font>\n",
    "        return (dictionary, which you might need to use for back propagation)\n",
    "        <font color='grey'>\n",
    "        </font>\n",
    "</font>\n",
    "</pre>\n",
    "    *  <b>Backward propagation</b>(Write your code in<font color='blue'> def backward_propagation()</b></font>)\n",
    "    </b>\n",
    "    <pre>\n",
    "    <font color='green'>\n",
    "    def backward_propagation(L, W,dictionary):\n",
    "        <font color='grey'>\n",
    "        # L: the loss we calculated for the current point\n",
    "        # dictionary: the outputs of the forward_propagation() function\n",
    "        # write code to compute the gradients of each weight [w1,w2,w3,...,w9]\n",
    "        # Hint: you can use dict type to store the required variables \n",
    "        # return dW, dW is a dictionary with gradients of all the weights\n",
    "        </font>\n",
    "        return dW\n",
    "        </font>\n",
    "</font>\n",
    "</pre>"
   ]
  },
  {
   "cell_type": "markdown",
   "metadata": {
    "id": "STS4NrQQc6OH"
   },
   "source": [
    " ## <font color='red'>Gradient clipping</font>"
   ]
  },
  {
   "cell_type": "markdown",
   "metadata": {
    "id": "XY7ivRNzdPok"
   },
   "source": [
    "<b> Check this  <a href='https://towardsdatascience.com/how-to-debug-a-neural-network-with-gradient-checking-41deec0357a9'>blog link</a> for more details on Gradient clipping"
   ]
  },
  {
   "cell_type": "markdown",
   "metadata": {
    "id": "BrsfpDoidtZ5"
   },
   "source": [
    " we know that the derivative of any function is\n",
    " \n",
    " $$\\lim_{\\epsilon\\to0}\\frac{f(x+\\epsilon)-f(x-\\epsilon)}{2\\epsilon}$$\n"
   ]
  },
  {
   "cell_type": "markdown",
   "metadata": {
    "id": "vUcmt0kPd02f"
   },
   "source": [
    "*  The definition above can be used as a numerical approximation of the derivative. Taking an epsilon small enough, the calculated approximation will have an error in the range of epsilon squared. \n",
    "\n",
    "*  In other words, if epsilon is 0.001, the approximation will be off by 0.00001.\n",
    "\n",
    "Therefore, we can use this to approximate the gradient, and in turn make sure that backpropagation is implemented properly. This forms the basis of <b>gradient checking!</b>"
   ]
  },
  {
   "cell_type": "markdown",
   "metadata": {
    "id": "pFSu16KCeU0x"
   },
   "source": [
    "## <Font color='blue'>Gradient checking example</font>"
   ]
  },
  {
   "cell_type": "markdown",
   "metadata": {
    "id": "Gz0mmT_xecfC"
   },
   "source": [
    "<font >\n",
    "lets understand the concept with a simple example:\n",
    "$f(w1,w2,x1,x2)=w_{1}^{2} . x_{1} + w_{2} . x_{2}$ \n",
    "\n",
    "from the above function , lets assume $w_{1}=1$, $w_{2}=2$, $x_{1}=3$, $x_{2}=4$ the gradient of $f$ w.r.t $w_{1}$ is\n",
    "\n",
    "\\begin{array} {lcl}\n",
    "\\frac{df}{dw_{1}} = dw_{1} &=&2.w_{1}.x_{1} \\\\& = &2.1.3\\\\& = &6\n",
    "\\end{array}\n",
    "\n",
    "\n",
    "let calculate the aproximate gradient of $w_{1}$ as mentinoned in the above formula and considering $\\epsilon=0.0001$\n",
    "\n",
    "\\begin{array} {lcl}\n",
    "dw_1^{approx} & = & \\frac{f(w1+\\epsilon,w2,x1,x2)-f(w1-\\epsilon,w2,x1,x2)}{2\\epsilon} \\\\ & = & \\frac{((1+0.0001)^{2} . 3 + 2 . 4) - ((1-0.0001)^{2} . 3 + 2 . 4)}{2\\epsilon} \\\\ & = & \\frac{(1.00020001 . 3 + 2 . 4) - (0.99980001. 3 + 2 . 4)}{2*0.0001} \\\\ & = & \\frac{(11.00060003) - (10.99940003)}{0.0002}\\\\ & = & 5.99999999999\n",
    "\\end{array}\n",
    "\n",
    "Then, we apply the following formula for gradient check: <i>gradient_check</i> = \n",
    "$\\frac{\\left\\Vert\\left (dW-dW^{approx}\\rm\\right) \\right\\Vert_2}{\\left\\Vert\\left (dW\\rm\\right) \\right\\Vert_2+\\left\\Vert\\left (dW^{approx}\\rm\\right) \\right\\Vert_2}$\n",
    "\n",
    "The equation above is basically the Euclidean distance normalized by the sum of the norm of the vectors. We use normalization in case that one of the vectors is very small.\n",
    "As a value for epsilon, we usually opt for 1e-7. Therefore, if gradient check return a value less than 1e-7, then it means that backpropagation was implemented correctly. Otherwise, there is potentially a mistake in your implementation. If the value exceeds 1e-3, then you are sure that the code is not correct.\n",
    "\n",
    "in our example: <i>gradient_check</i> $ = \\frac{(6 - 5.999999999994898)}{(6 + 5.999999999994898)} = 4.2514140356330737e^{-13}$\n",
    "\n",
    "you can mathamatically derive the same thing like this\n",
    "\n",
    "\\begin{array} {lcl}\n",
    "dw_1^{approx} & = & \\frac{f(w1+\\epsilon,w2,x1,x2)-f(w1-\\epsilon,w2,x1,x2)}{2\\epsilon} \\\\ & = & \\frac{((w_{1}+\\epsilon)^{2} . x_{1} + w_{2} . x_{2}) - ((w_{1}-\\epsilon)^{2} . x_{1} + w_{2} . x_{2})}{2\\epsilon} \\\\ & = & \\frac{4. \\epsilon.w_{1}. x_{1}}{2\\epsilon} \\\\ & = &  2.w_{1}.x_{1}\n",
    "\\end{array}\n"
   ]
  },
  {
   "cell_type": "markdown",
   "metadata": {
    "id": "f1BFQQaCermK"
   },
   "source": [
    "## <font color='red'> Implement Gradient checking </font> <br>\n",
    " (Write your code in <font color='blue'> def gradient_checking()</font>)"
   ]
  },
  {
   "cell_type": "markdown",
   "metadata": {
    "id": "GqpfA3AqfJba"
   },
   "source": [
    "**Algorithm** \n",
    "\n"
   ]
  },
  {
   "cell_type": "markdown",
   "metadata": {
    "id": "FL39KeRFfNoD"
   },
   "source": [
    "<pre>\n",
    "<font color='darkblue'>\n",
    "W = initilize_randomly\n",
    "def gradient_checking(data_point, W):<font color='grey'>\n",
    "    # compute the L value using forward_propagation()\n",
    "    # compute the gradients of W using backword_propagation()</font>\n",
    "    approx_gradients = []\n",
    "    for each wi weight value in W:<font color='grey'>\n",
    "        # add a small value to weight wi, and then find the values of L with the updated weights\n",
    "        # subtract a small value to weight wi, and then find the values of L with the updated weights\n",
    "        # compute the approximation gradients of weight wi</font>\n",
    "        approx_gradients.append(approximation gradients of weight wi)<font color='grey'>\n",
    "    # compare the gradient of weights W from backword_propagation() with the aproximation gradients of weights with <br>  gradient_check formula</font>\n",
    "    return gradient_check</font>\n",
    "<b>NOTE: you can do sanity check by checking all the return values of gradient_checking(),<br> they have to be zero. if not you have bug in your code\n",
    "</pre></b>"
   ]
  },
  {
   "cell_type": "markdown",
   "metadata": {
    "id": "0ufbFBFfhgL0"
   },
   "source": [
    "# <font color='red'> Task 2 : Optimizers </font>"
   ]
  },
  {
   "cell_type": "markdown",
   "metadata": {
    "id": "7zt05soYh1RM"
   },
   "source": [
    "* As a part of this task, you will be implementing 3 type of optimizers(methods to update weight)\n",
    "* Use the same computational graph that was mentioned above to do this task\n",
    "* Initilze the 9 weights from normal distribution with mean=0 and std=0.01"
   ]
  },
  {
   "cell_type": "markdown",
   "metadata": {
    "id": "CAyi7aSAicbr"
   },
   "source": [
    "**Check below video and <a href='https://cs231n.github.io/neural-networks-3/'>this</a> blog**"
   ]
  },
  {
   "cell_type": "code",
   "execution_count": null,
   "metadata": {
    "colab": {
     "base_uri": "https://localhost:8080/",
     "height": 521
    },
    "id": "ZogcxiegkQpz",
    "outputId": "9b4e0235-e638-4f20-d9c1-ac3ca4fb3ce8"
   },
   "outputs": [
    {
     "data": {
      "image/jpeg": "[encoded data removed]",
      "text/html": [
       "\n",
       "        <iframe\n",
       "            width=\"1000\"\n",
       "            height=\"500\"\n",
       "            src=\"https://www.youtube.com/embed/gYpoJMlgyXA\"\n",
       "            frameborder=\"0\"\n",
       "            allowfullscreen\n",
       "        ></iframe>\n",
       "        "
      ],
      "text/plain": [
       "<IPython.lib.display.YouTubeVideo at 0x7f676043e208>"
      ]
     },
     "execution_count": 56,
     "metadata": {
      "tags": []
     },
     "output_type": "execute_result"
    }
   ],
   "source": [
    "from IPython.display import YouTubeVideo\n",
    "YouTubeVideo('gYpoJMlgyXA',width=\"1000\",height=\"500\")"
   ]
  },
  {
   "cell_type": "markdown",
   "metadata": {
    "id": "jmefh7ktjbaR"
   },
   "source": [
    "<font color='blue'><b>Algorithm</b>"
   ]
  },
  {
   "cell_type": "markdown",
   "metadata": {
    "id": "nAc4NudkjdNa"
   },
   "source": [
    "<pre>\n",
    "    for each epoch(1-100):\n",
    "        for each data point in your data:\n",
    "            using the functions forward_propagation() and backword_propagation() compute the gradients of weights\n",
    "            update the weigts with help of gradients  ex: w1 = w1-learning_rate*dw1\n",
    "</pre>"
   ]
  },
  {
   "cell_type": "markdown",
   "metadata": {
    "id": "_fdmPNqtjm3X"
   },
   "source": [
    "## <font color='red'> Implement below tasks</b>"
   ]
  },
  {
   "cell_type": "markdown",
   "metadata": {
    "id": "Ll9-CRsLjx_D"
   },
   "source": [
    "\n",
    "*  <b>Task 2.1</b>: you will be implementing the above algorithm with <b>Vanilla update</b> of weights<br><br>\n",
    "*  <b>Task 2.2</b>: you will be implementing the above algorithm with <b>Momentum update</b> of weights<br><br>\n",
    "*  <b>Task 2.3</b>: you will be implementing the above algorithm with <b>Adam update</b> of weights\n"
   ]
  },
  {
   "cell_type": "markdown",
   "metadata": {
    "id": "atp082demrUR"
   },
   "source": [
    "**Note : If you get any assertion error while running grader functions, please print the variables in grader functions and check which variable is returning False .Recheck your logic for that variable .**"
   ]
  },
  {
   "cell_type": "markdown",
   "metadata": {
    "id": "phG2WDkjkuIL"
   },
   "source": [
    "<br>\n",
    "<br>\n",
    "<br>"
   ]
  },
  {
   "cell_type": "markdown",
   "metadata": {
    "id": "CBaPzHP63grG"
   },
   "source": [
    "# <font color='red'>Task 1 </font>"
   ]
  },
  {
   "cell_type": "markdown",
   "metadata": {
    "id": "QfmV3FUgSrBo"
   },
   "source": [
    "## <font color='blue'>Forward propagation </font>"
   ]
  },
  {
   "cell_type": "code",
   "execution_count": 3,
   "metadata": {},
   "outputs": [],
   "source": [
    "def sigmoid(z):\n",
    "    '''In this function, we will compute the sigmoid(z)'''\n",
    "    # we can use this function in forward and backward propagation\n",
    "    sig = 1 / (1 + math.exp(-z))\n",
    "    return sig"
   ]
  },
  {
   "cell_type": "code",
   "execution_count": 15,
   "metadata": {
    "id": "5_pBivcY30qf"
   },
   "outputs": [],
   "source": [
    "def forward_propagation(x, y, w):\n",
    "    '''In this function, we will compute the forward propagation '''\n",
    "    # X: input data point, note that in this assignment you are having 5-d data points\n",
    "    # y: output varible\n",
    "    # W: weight array, its of length 9, W[0] corresponds to w1 in graph, W[1] corresponds to w2 in graph,..., W[8] corresponds to w9 in graph.  \n",
    "    # you have to return the following variables\n",
    "    # exp= part1 (compute the forward propagation until exp and then store the values in exp)\n",
    "    \n",
    "    sqr = pow(((x[0] * w[0]) + (x[1] * w[1])), 2)\n",
    "    exp = math.exp(sqr + w[5])\n",
    "    # tanh =part2(compute the forward propagation until tanh and then store the values in tanh)\n",
    "    tanh = np.tanh(exp + w[6])\n",
    "    # sig = part3(compute the forward propagation until sigmoid and then store the values in sig)\n",
    "    sin = math.sin(w[2] * x[2])\n",
    "    add = (w[3] * x[3]) + (w[4] * x[4])\n",
    "    sig = sigmoid((sin * add) + w[7])\n",
    "    # now compute remaining values from computional graph and get y'\n",
    "    y_pred = tanh + (sig * w[8])\n",
    "    # write code to compute the value of L=(y-y')^2\n",
    "    l = pow((y - y_pred), 2)\n",
    "    # compute derivative of L  w.r.to Y' and store it in dl\n",
    "    dl = -2 * (y - y_pred)\n",
    "    # Create a dictionary to store all the intermediate values\n",
    "    # store L, exp,tanh,sig variables\n",
    "    output_dict = dict()\n",
    "    output_dict['sigmoid'] = sig\n",
    "    output_dict['tanh'] = tanh\n",
    "    output_dict['exp'] = exp\n",
    "    output_dict['loss'] = l\n",
    "    output_dict['dy_pr'] = dl\n",
    "    output_dict['y_pred'] = y_pred\n",
    "    output_dict['sin'] = sin\n",
    "    output_dict['add'] = add\n",
    "    output_dict['sqr'] = sqr\n",
    "    return output_dict"
   ]
  },
  {
   "cell_type": "markdown",
   "metadata": {
    "id": "z-z1rGKqCHNN"
   },
   "source": [
    "<font color='cyan'>Grader function - 1</font>"
   ]
  },
  {
   "cell_type": "code",
   "execution_count": 4,
   "metadata": {
    "id": "6ZxFF00zBmx1"
   },
   "outputs": [
    {
     "data": {
      "text/plain": [
       "True"
      ]
     },
     "execution_count": 4,
     "metadata": {},
     "output_type": "execute_result"
    }
   ],
   "source": [
    "def grader_sigmoid(z):\n",
    "  val=sigmoid(z)\n",
    "  assert(val==0.8807970779778823)\n",
    "  return True\n",
    "grader_sigmoid(2)"
   ]
  },
  {
   "cell_type": "markdown",
   "metadata": {
    "id": "KgAUXq_aChey"
   },
   "source": [
    "<font color='cyan'>Grader function - 2 </font>"
   ]
  },
  {
   "cell_type": "code",
   "execution_count": 16,
   "metadata": {
    "id": "3uzsUqcjCorN"
   },
   "outputs": [
    {
     "data": {
      "text/plain": [
       "True"
      ]
     },
     "execution_count": 16,
     "metadata": {},
     "output_type": "execute_result"
    }
   ],
   "source": [
    "def grader_forwardprop(data):\n",
    "    dl = (data['dy_pr']==-1.9285278284819143)\n",
    "    loss=(data['loss']==0.9298048963072919)\n",
    "    part1=(data['exp']==1.1272967040973583)\n",
    "    part2=(data['tanh']==0.8417934192562146)\n",
    "    part3=(data['sigmoid']==0.5279179387419721)\n",
    "    assert(dl and loss and part1 and part2 and part3)\n",
    "    return True\n",
    "w=np.ones(9)*0.1\n",
    "d1=forward_propagation(X[0],y[0],w)\n",
    "grader_forwardprop(d1)"
   ]
  },
  {
   "cell_type": "markdown",
   "metadata": {
    "id": "obOaAqj3Sxvb"
   },
   "source": [
    "## <font color='blue'>Backward propagation</font>"
   ]
  },
  {
   "cell_type": "code",
   "execution_count": 33,
   "metadata": {
    "id": "dS49ykcOGhIv"
   },
   "outputs": [],
   "source": [
    "def backward_propagation(x, w, d):\n",
    "    '''In this function, we will compute the backward propagation '''\n",
    "    # L: the loss we calculated for the current point\n",
    "    # dictionary: the outputs of the forward_propagation() function\n",
    "    # write code to compute the gradients of each weight [w1,w2,w3,...,w9]\n",
    "    # Hint: you can use dict type to store the required variables\n",
    "    dy = d['dy_pr']\n",
    "    dtanh = dy\n",
    "    dsig = w[8] * dy\n",
    "    dw9 = d['sigmoid'] * dy\n",
    "    dexp = (1 - pow(d['tanh'], 2)) * dtanh\n",
    "    dw7 = dexp\n",
    "    dw8 = (d['sigmoid'] * (1 - d['sigmoid'])) * dsig\n",
    "    dsin =  d['add'] * dw8\n",
    "    dadd = d['sin'] * dw8\n",
    "    dw3 = x[2] * math.sqrt(1 - pow(d['sin'], 2)) * dsin\n",
    "    dw4 = x[3] * dadd\n",
    "    dw5 = x[4] * dadd\n",
    "    dw6 = d['exp'] * dexp\n",
    "    dsqr = dw6\n",
    "    dw1 = x[0] * 2 * ((x[0] * w[0]) + (x[1] * w[1])) * dsqr\n",
    "    dw2 = x[1] * 2 * ((x[0] * w[0]) + (x[1] * w[1])) * dsqr\n",
    "    \n",
    "    output_dict = dict()\n",
    "    output_dict['dw1'] = dw1\n",
    "    output_dict['dw2'] = dw2\n",
    "    output_dict['dw3'] = dw3\n",
    "    output_dict['dw4'] = dw4\n",
    "    output_dict['dw5'] = dw5\n",
    "    output_dict['dw6'] = dw6\n",
    "    output_dict['dw7'] = dw7\n",
    "    output_dict['dw8'] = dw8\n",
    "    output_dict['dw9'] = dw9\n",
    "\n",
    "    return output_dict"
   ]
  },
  {
   "cell_type": "markdown",
   "metadata": {
    "id": "2NpZWAVlS4jb"
   },
   "source": [
    "<font color='cyan'>Grader function - 3 </font>"
   ]
  },
  {
   "cell_type": "code",
   "execution_count": 26,
   "metadata": {
    "id": "1a8Kll2xGhMJ"
   },
   "outputs": [
    {
     "data": {
      "text/plain": [
       "True"
      ]
     },
     "execution_count": 26,
     "metadata": {},
     "output_type": "execute_result"
    }
   ],
   "source": [
    "def grader_backprop(data):\n",
    "    dw1=(data['dw1']==-0.22973323498702003)\n",
    "    dw2=(data['dw2']==-0.021407614717752925)\n",
    "    dw3=(data['dw3']==-0.005625405580266319)\n",
    "    dw4=(data['dw4']==-0.004657941222712423)\n",
    "    dw5=(data['dw5']==-0.0010077228498574246)\n",
    "    dw6=(data['dw6']==-0.6334751873437471)\n",
    "    dw7=(data['dw7']==-0.561941842854033)\n",
    "    dw8=(data['dw8']==-0.04806288407316516)\n",
    "    dw9=(data['dw9']==-1.0181044360187037)\n",
    "    assert(dw1 and dw2 and dw3 and dw4 and dw5 and dw6 and dw7 and dw8 and dw9)\n",
    "    return True \n",
    "w=np.ones(9)*0.1\n",
    "d1=forward_propagation(X[0],y[0],w)\n",
    "d1=backward_propagation(X[0],w,d1)\n",
    "grader_backprop(d1)"
   ]
  },
  {
   "cell_type": "markdown",
   "metadata": {
    "id": "1rfHHXZwgwo6"
   },
   "source": [
    "## <font color='blue'> Implement gradient checking</font>"
   ]
  },
  {
   "cell_type": "code",
   "execution_count": 77,
   "metadata": {
    "id": "oh8wj1yjGhOi"
   },
   "outputs": [],
   "source": [
    "W = np.ones(9)*0.1\n",
    "def gradient_checking(x, y, W):\n",
    "    d1 = forward_propagation(x, y, W)\n",
    "    d2 = backward_propagation(x, W, d1)\n",
    "    gradients = np.array([val for val in d2.values()], dtype='float')\n",
    "    approx_gradients = []\n",
    "    e = 0.0001\n",
    "    for i in range(W.size):\n",
    "        w1 = np.copy(W)\n",
    "        w2 = np.copy(W)\n",
    "        # add a small value to weight wi, and then find the values of L with the updated weights\n",
    "        # subtract a small value to weight wi, and then find the values of L with the updated weights\n",
    "        # compute the approximation gradients of weight wi\n",
    "        w1[i] += e\n",
    "        w2[i] -= e\n",
    "        l1 = forward_propagation(x, y, w1)['loss']\n",
    "        l2 = forward_propagation(x, y, w2)['loss']\n",
    "        dwi_app = (l1 - l2) / (2 * e)\n",
    "        approx_gradients.append(dwi_app)\n",
    "    # compare the gradient of weights W from backword_propagation() with the aproximation gradients of weights with gradient_check formula\n",
    "    approx_gradients = np.array(approx_gradients)\n",
    "    nu = np.linalg.norm(gradients - approx_gradients)\n",
    "    de = np.linalg.norm(gradients) + np.linalg.norm(approx_gradients)\n",
    "    gradient_check = nu / de\n",
    "    output_dict = dict()\n",
    "    output_dict['gradient_check'] = gradient_check\n",
    "    output_dict['gradients'] = gradients\n",
    "    return output_dict"
   ]
  },
  {
   "cell_type": "code",
   "execution_count": 78,
   "metadata": {},
   "outputs": [],
   "source": [
    "result = gradient_checking(X[0],y[0], W)"
   ]
  },
  {
   "cell_type": "code",
   "execution_count": 79,
   "metadata": {},
   "outputs": [
    {
     "name": "stdout",
     "output_type": "stream",
     "text": [
      "2.235141456281688e-09\n",
      "[-2.29733235e-01 -2.14076147e-02 -5.62540558e-03 -4.65794122e-03\n",
      " -1.00772285e-03 -6.33475187e-01 -5.61941843e-01 -4.80628841e-02\n",
      " -1.01810444e+00]\n"
     ]
    }
   ],
   "source": [
    "print(result['gradient_check'])\n",
    "print(result['gradients'])"
   ]
  },
  {
   "cell_type": "markdown",
   "metadata": {
    "id": "MhwDSe99kJ32"
   },
   "source": [
    "# <font color='red'>Task 2: Optimizers"
   ]
  },
  {
   "cell_type": "markdown",
   "metadata": {
    "id": "jJzI-vnPk1dB"
   },
   "source": [
    "<font color='blue'>Algorithm with Vanilla update of weights</font>"
   ]
  },
  {
   "cell_type": "code",
   "execution_count": 112,
   "metadata": {
    "id": "xJspU6ZuGhRQ"
   },
   "outputs": [],
   "source": [
    "def sgd_vanilla(epochs, learning_rate):\n",
    "    W = np.random.normal(0, 1, 9)\n",
    "    epoch_loss = []\n",
    "    for epoch in tqdm(range(epochs)):\n",
    "        loss = []\n",
    "        for i in range(X.shape[0]):\n",
    "            d1 = forward_propagation(X[i], y[i], W)\n",
    "            d2 = backward_propagation(X[i], W, d1)\n",
    "            gradients = np.array([val for val in d2.values()], dtype='float')\n",
    "            loss.append(d1['loss'])\n",
    "            W -= (learning_rate * gradients)\n",
    "        avg_loss = sum(loss) / len(loss)  \n",
    "        epoch_loss.append(avg_loss)\n",
    "    return epoch_loss      "
   ]
  },
  {
   "cell_type": "code",
   "execution_count": 113,
   "metadata": {},
   "outputs": [
    {
     "name": "stderr",
     "output_type": "stream",
     "text": [
      "100%|████████████████████████████████████████████████████████████████████████████████| 100/100 [00:01<00:00, 59.02it/s]\n"
     ]
    }
   ],
   "source": [
    "epoch_loss_vanilla = sgd_vanilla(100, 0.0001)"
   ]
  },
  {
   "cell_type": "markdown",
   "metadata": {
    "id": "UlTLXrvmlR26"
   },
   "source": [
    "<font color='blue'>Plot between epochs and loss</font>"
   ]
  },
  {
   "cell_type": "code",
   "execution_count": 114,
   "metadata": {
    "id": "CjTCVUIoGhTo"
   },
   "outputs": [
    {
     "data": {
      "image/png": "[encoded data removed]",
      "text/plain": [
       "<Figure size 432x288 with 1 Axes>"
      ]
     },
     "metadata": {
      "needs_background": "light"
     },
     "output_type": "display_data"
    }
   ],
   "source": [
    "import matplotlib.pyplot as plt\n",
    "\n",
    "plt.plot(range(100), epoch_loss_vanilla)\n",
    "plt.xlabel('Epoch')\n",
    "plt.ylabel('Loss')\n",
    "plt.title(\"Epoch-Loss For Vanilla\")\n",
    "plt.show()"
   ]
  },
  {
   "cell_type": "markdown",
   "metadata": {
    "id": "cv_hZFWalS2z"
   },
   "source": [
    "<font color='blue'>Algorithm with  Momentum update of weights</font>"
   ]
  },
  {
   "cell_type": "code",
   "execution_count": 115,
   "metadata": {
    "id": "uucCdyQrGhZt"
   },
   "outputs": [],
   "source": [
    "def sgd_momentum(epochs, learning_rate, gamma):\n",
    "    W = np.random.normal(0, 1, 9)\n",
    "    momentum = np.zeros(9)\n",
    "    epoch_loss = []\n",
    "    for epoch in tqdm(range(epochs)):\n",
    "        loss = []\n",
    "        for i in range(X.shape[0]):\n",
    "            d1 = forward_propagation(X[i], y[i], W)\n",
    "            d2 = backward_propagation(X[i], W, d1)\n",
    "            gradients = np.array([val for val in d2.values()], dtype='float')\n",
    "            loss.append(d1['loss'])\n",
    "            v_t = np.add((gamma * momentum), (learning_rate * gradients))\n",
    "            W -= v_t\n",
    "        avg_loss = sum(loss) / len(loss)  \n",
    "        epoch_loss.append(avg_loss)\n",
    "    return epoch_loss      "
   ]
  },
  {
   "cell_type": "code",
   "execution_count": 116,
   "metadata": {},
   "outputs": [
    {
     "name": "stderr",
     "output_type": "stream",
     "text": [
      "100%|████████████████████████████████████████████████████████████████████████████████| 100/100 [00:02<00:00, 46.46it/s]\n"
     ]
    }
   ],
   "source": [
    "epoch_loss_momentum = sgd_momentum(100, 0.0001, 0.9)"
   ]
  },
  {
   "cell_type": "markdown",
   "metadata": {
    "id": "Ow20azfKlVhn"
   },
   "source": [
    "<font color='blue'>Plot between epochs and loss</font>"
   ]
  },
  {
   "cell_type": "code",
   "execution_count": 117,
   "metadata": {
    "id": "u-m90Sq_Ghce"
   },
   "outputs": [
    {
     "data": {
      "image/png": "[encoded data removed]",
      "text/plain": [
       "<Figure size 432x288 with 1 Axes>"
      ]
     },
     "metadata": {
      "needs_background": "light"
     },
     "output_type": "display_data"
    }
   ],
   "source": [
    "plt.plot(range(100), epoch_loss_momentum)\n",
    "plt.xlabel('Epoch')\n",
    "plt.ylabel('Loss')\n",
    "plt.title(\"Epoch-Loss For Momentum\")\n",
    "plt.show()"
   ]
  },
  {
   "cell_type": "markdown",
   "metadata": {
    "id": "V4RWWrZ7lWap"
   },
   "source": [
    "<font color='blue'>Algorithm with Adam update of weights</font>"
   ]
  },
  {
   "cell_type": "code",
   "execution_count": 118,
   "metadata": {
    "id": "72rRC8rJGhf5"
   },
   "outputs": [],
   "source": [
    "def sgd_adam(epochs, alpha, b1, b2):\n",
    "    e = 0.0001\n",
    "    W = np.random.normal(0, 1, 9)\n",
    "    m_t = np.zeros(9)\n",
    "    v_t = np.zeros(9)\n",
    "    epoch_loss = []\n",
    "    for epoch in tqdm(range(epochs)):\n",
    "        loss = []\n",
    "        for i in range(X.shape[0]):\n",
    "            d1 = forward_propagation(X[i], y[i], W)\n",
    "            d2 = backward_propagation(X[i], W, d1)\n",
    "            gradients = np.array([val for val in d2.values()], dtype='float')\n",
    "            loss.append(d1['loss'])\n",
    "            m_t = np.add((b1 * m_t), ((1 - b1) * gradients))\n",
    "            v_t = np.add((b2 * v_t), ((1 - b2) * np.power(gradients, 2)))\n",
    "            m_t_ = m_t / (1 - pow(b1,2))\n",
    "            v_t_ = v_t / (1 - pow(b2,2))\n",
    "            W -= (alpha * np.divide(m_t_, np.sqrt(v_t_ + e)))\n",
    "        avg_loss = sum(loss) / len(loss)  \n",
    "        epoch_loss.append(avg_loss)\n",
    "    return epoch_loss      "
   ]
  },
  {
   "cell_type": "code",
   "execution_count": 119,
   "metadata": {},
   "outputs": [
    {
     "name": "stderr",
     "output_type": "stream",
     "text": [
      "100%|████████████████████████████████████████████████████████████████████████████████| 100/100 [00:02<00:00, 37.32it/s]\n"
     ]
    }
   ],
   "source": [
    "epoch_loss_adam = sgd_adam(100, 0.0001, 0.001, 0.05)"
   ]
  },
  {
   "cell_type": "markdown",
   "metadata": {
    "id": "MMy0nBw-lXml"
   },
   "source": [
    "<font color='blue'>Plot between epochs and loss</font>"
   ]
  },
  {
   "cell_type": "code",
   "execution_count": 120,
   "metadata": {
    "id": "aiFRk_uFlm2V"
   },
   "outputs": [
    {
     "data": {
      "image/png": "[encoded data removed]",
      "text/plain": [
       "<Figure size 432x288 with 1 Axes>"
      ]
     },
     "metadata": {
      "needs_background": "light"
     },
     "output_type": "display_data"
    }
   ],
   "source": [
    "plt.plot(range(100), epoch_loss_adam)\n",
    "plt.xlabel('Epoch')\n",
    "plt.ylabel('Loss')\n",
    "plt.title(\"Epoch-Loss For Adam\")\n",
    "plt.show()"
   ]
  },
  {
   "cell_type": "markdown",
   "metadata": {
    "id": "7627cy8YlnYO"
   },
   "source": [
    "<font color='blue'>Comparision plot between epochs and loss with different optimizers</font>"
   ]
  },
  {
   "cell_type": "code",
   "execution_count": 123,
   "metadata": {
    "id": "scleSfIXl_bC"
   },
   "outputs": [
    {
     "data": {
      "image/png": "[encoded data removed]",
      "text/plain": [
       "<Figure size 432x288 with 1 Axes>"
      ]
     },
     "metadata": {
      "needs_background": "light"
     },
     "output_type": "display_data"
    }
   ],
   "source": [
    "plt.plot(range(100), epoch_loss_vanilla, label='vanilla')\n",
    "plt.plot(range(100), epoch_loss_momentum, label = 'momentum')\n",
    "plt.plot(range(100), epoch_loss_adam, label = 'adam')\n",
    "plt.xlabel('Epoch')\n",
    "plt.ylabel('Loss')\n",
    "plt.title(\"Epoch-Loss For Adam\")\n",
    "plt.legend()\n",
    "plt.show()"
   ]
  }
 ],
 "metadata": {
  "colab": {
   "collapsed_sections": [],
   "name": "Backpropagation_assignment.ipynb",
   "provenance": []
  },
  "kernelspec": {
   "display_name": "Python 3 (ipykernel)",
   "language": "python",
   "name": "python3"
  },
  "language_info": {
   "codemirror_mode": {
    "name": "ipython",
    "version": 3
   },
   "file_extension": ".py",
   "mimetype": "text/x-python",
   "name": "python",
   "nbconvert_exporter": "python",
   "pygments_lexer": "ipython3",
   "version": "3.9.13"
  }
 },
 "nbformat": 4,
 "nbformat_minor": 1
}
