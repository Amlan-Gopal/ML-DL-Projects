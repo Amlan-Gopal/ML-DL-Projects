{
 "cells": [
  {
   "cell_type": "code",
   "execution_count": 1,
   "metadata": {},
   "outputs": [],
   "source": [
    "# import libraries\n",
    "import pandas as pd\n",
    "import numpy as np\n",
    "import matplotlib.pyplot as plt\n",
    "from sklearn.feature_extraction.text import CountVectorizer\n",
    "from sklearn.preprocessing import StandardScaler\n",
    "from sklearn.model_selection import train_test_split\n",
    "from sklearn.linear_model import LogisticRegression\n",
    "from sklearn.ensemble import RandomForestClassifier\n",
    "from sklearn.metrics import f1_score\n",
    "import seaborn as sns\n",
    "import warnings\n",
    "warnings.filterwarnings('ignore')"
   ]
  },
  {
   "cell_type": "code",
   "execution_count": 2,
   "metadata": {},
   "outputs": [],
   "source": [
    "# import datasets\n",
    "ratings_df = pd.read_csv('ratings.dat', sep='::', header=None, names=['UserID', 'MovieID', 'Rating', 'Timestamp'])\n",
    "movies_df = pd.read_csv('movies.dat', sep='::', header=None, names= ['MovieID', 'Title', 'Genres'])\n",
    "users_df = pd.read_csv('users.dat', sep='::', header=None, names= ['UserID', 'Gender', 'Age', 'Occupation', 'Zip-code'])"
   ]
  },
  {
   "cell_type": "code",
   "execution_count": 3,
   "metadata": {},
   "outputs": [
    {
     "data": {
      "text/html": [
       "<div>\n",
       "<style scoped>\n",
       "    .dataframe tbody tr th:only-of-type {\n",
       "        vertical-align: middle;\n",
       "    }\n",
       "\n",
       "    .dataframe tbody tr th {\n",
       "        vertical-align: top;\n",
       "    }\n",
       "\n",
       "    .dataframe thead th {\n",
       "        text-align: right;\n",
       "    }\n",
       "</style>\n",
       "<table border=\"1\" class=\"dataframe\">\n",
       "  <thead>\n",
       "    <tr style=\"text-align: right;\">\n",
       "      <th></th>\n",
       "      <th>UserID</th>\n",
       "      <th>MovieID</th>\n",
       "      <th>Rating</th>\n",
       "      <th>Timestamp</th>\n",
       "    </tr>\n",
       "  </thead>\n",
       "  <tbody>\n",
       "    <tr>\n",
       "      <th>0</th>\n",
       "      <td>1</td>\n",
       "      <td>1193</td>\n",
       "      <td>5</td>\n",
       "      <td>978300760</td>\n",
       "    </tr>\n",
       "    <tr>\n",
       "      <th>1</th>\n",
       "      <td>1</td>\n",
       "      <td>661</td>\n",
       "      <td>3</td>\n",
       "      <td>978302109</td>\n",
       "    </tr>\n",
       "    <tr>\n",
       "      <th>2</th>\n",
       "      <td>1</td>\n",
       "      <td>914</td>\n",
       "      <td>3</td>\n",
       "      <td>978301968</td>\n",
       "    </tr>\n",
       "    <tr>\n",
       "      <th>3</th>\n",
       "      <td>1</td>\n",
       "      <td>3408</td>\n",
       "      <td>4</td>\n",
       "      <td>978300275</td>\n",
       "    </tr>\n",
       "    <tr>\n",
       "      <th>4</th>\n",
       "      <td>1</td>\n",
       "      <td>2355</td>\n",
       "      <td>5</td>\n",
       "      <td>978824291</td>\n",
       "    </tr>\n",
       "  </tbody>\n",
       "</table>\n",
       "</div>"
      ],
      "text/plain": [
       "   UserID  MovieID  Rating  Timestamp\n",
       "0       1     1193       5  978300760\n",
       "1       1      661       3  978302109\n",
       "2       1      914       3  978301968\n",
       "3       1     3408       4  978300275\n",
       "4       1     2355       5  978824291"
      ]
     },
     "execution_count": 3,
     "metadata": {},
     "output_type": "execute_result"
    }
   ],
   "source": [
    "ratings_df.head()"
   ]
  },
  {
   "cell_type": "code",
   "execution_count": 4,
   "metadata": {},
   "outputs": [
    {
     "data": {
      "text/html": [
       "<div>\n",
       "<style scoped>\n",
       "    .dataframe tbody tr th:only-of-type {\n",
       "        vertical-align: middle;\n",
       "    }\n",
       "\n",
       "    .dataframe tbody tr th {\n",
       "        vertical-align: top;\n",
       "    }\n",
       "\n",
       "    .dataframe thead th {\n",
       "        text-align: right;\n",
       "    }\n",
       "</style>\n",
       "<table border=\"1\" class=\"dataframe\">\n",
       "  <thead>\n",
       "    <tr style=\"text-align: right;\">\n",
       "      <th></th>\n",
       "      <th>MovieID</th>\n",
       "      <th>Title</th>\n",
       "      <th>Genres</th>\n",
       "    </tr>\n",
       "  </thead>\n",
       "  <tbody>\n",
       "    <tr>\n",
       "      <th>0</th>\n",
       "      <td>1</td>\n",
       "      <td>Toy Story (1995)</td>\n",
       "      <td>Animation|Children's|Comedy</td>\n",
       "    </tr>\n",
       "    <tr>\n",
       "      <th>1</th>\n",
       "      <td>2</td>\n",
       "      <td>Jumanji (1995)</td>\n",
       "      <td>Adventure|Children's|Fantasy</td>\n",
       "    </tr>\n",
       "    <tr>\n",
       "      <th>2</th>\n",
       "      <td>3</td>\n",
       "      <td>Grumpier Old Men (1995)</td>\n",
       "      <td>Comedy|Romance</td>\n",
       "    </tr>\n",
       "    <tr>\n",
       "      <th>3</th>\n",
       "      <td>4</td>\n",
       "      <td>Waiting to Exhale (1995)</td>\n",
       "      <td>Comedy|Drama</td>\n",
       "    </tr>\n",
       "    <tr>\n",
       "      <th>4</th>\n",
       "      <td>5</td>\n",
       "      <td>Father of the Bride Part II (1995)</td>\n",
       "      <td>Comedy</td>\n",
       "    </tr>\n",
       "  </tbody>\n",
       "</table>\n",
       "</div>"
      ],
      "text/plain": [
       "   MovieID                               Title                        Genres\n",
       "0        1                    Toy Story (1995)   Animation|Children's|Comedy\n",
       "1        2                      Jumanji (1995)  Adventure|Children's|Fantasy\n",
       "2        3             Grumpier Old Men (1995)                Comedy|Romance\n",
       "3        4            Waiting to Exhale (1995)                  Comedy|Drama\n",
       "4        5  Father of the Bride Part II (1995)                        Comedy"
      ]
     },
     "execution_count": 4,
     "metadata": {},
     "output_type": "execute_result"
    }
   ],
   "source": [
    "movies_df.head()"
   ]
  },
  {
   "cell_type": "code",
   "execution_count": 5,
   "metadata": {},
   "outputs": [
    {
     "data": {
      "text/html": [
       "<div>\n",
       "<style scoped>\n",
       "    .dataframe tbody tr th:only-of-type {\n",
       "        vertical-align: middle;\n",
       "    }\n",
       "\n",
       "    .dataframe tbody tr th {\n",
       "        vertical-align: top;\n",
       "    }\n",
       "\n",
       "    .dataframe thead th {\n",
       "        text-align: right;\n",
       "    }\n",
       "</style>\n",
       "<table border=\"1\" class=\"dataframe\">\n",
       "  <thead>\n",
       "    <tr style=\"text-align: right;\">\n",
       "      <th></th>\n",
       "      <th>UserID</th>\n",
       "      <th>Gender</th>\n",
       "      <th>Age</th>\n",
       "      <th>Occupation</th>\n",
       "      <th>Zip-code</th>\n",
       "    </tr>\n",
       "  </thead>\n",
       "  <tbody>\n",
       "    <tr>\n",
       "      <th>0</th>\n",
       "      <td>1</td>\n",
       "      <td>F</td>\n",
       "      <td>1</td>\n",
       "      <td>10</td>\n",
       "      <td>48067</td>\n",
       "    </tr>\n",
       "    <tr>\n",
       "      <th>1</th>\n",
       "      <td>2</td>\n",
       "      <td>M</td>\n",
       "      <td>56</td>\n",
       "      <td>16</td>\n",
       "      <td>70072</td>\n",
       "    </tr>\n",
       "    <tr>\n",
       "      <th>2</th>\n",
       "      <td>3</td>\n",
       "      <td>M</td>\n",
       "      <td>25</td>\n",
       "      <td>15</td>\n",
       "      <td>55117</td>\n",
       "    </tr>\n",
       "    <tr>\n",
       "      <th>3</th>\n",
       "      <td>4</td>\n",
       "      <td>M</td>\n",
       "      <td>45</td>\n",
       "      <td>7</td>\n",
       "      <td>02460</td>\n",
       "    </tr>\n",
       "    <tr>\n",
       "      <th>4</th>\n",
       "      <td>5</td>\n",
       "      <td>M</td>\n",
       "      <td>25</td>\n",
       "      <td>20</td>\n",
       "      <td>55455</td>\n",
       "    </tr>\n",
       "  </tbody>\n",
       "</table>\n",
       "</div>"
      ],
      "text/plain": [
       "   UserID Gender  Age  Occupation Zip-code\n",
       "0       1      F    1          10    48067\n",
       "1       2      M   56          16    70072\n",
       "2       3      M   25          15    55117\n",
       "3       4      M   45           7    02460\n",
       "4       5      M   25          20    55455"
      ]
     },
     "execution_count": 5,
     "metadata": {},
     "output_type": "execute_result"
    }
   ],
   "source": [
    "users_df.head()"
   ]
  },
  {
   "cell_type": "code",
   "execution_count": 6,
   "metadata": {},
   "outputs": [
    {
     "name": "stdout",
     "output_type": "stream",
     "text": [
      "<class 'pandas.core.frame.DataFrame'>\n",
      "RangeIndex: 1000209 entries, 0 to 1000208\n",
      "Data columns (total 4 columns):\n",
      " #   Column     Non-Null Count    Dtype\n",
      "---  ------     --------------    -----\n",
      " 0   UserID     1000209 non-null  int64\n",
      " 1   MovieID    1000209 non-null  int64\n",
      " 2   Rating     1000209 non-null  int64\n",
      " 3   Timestamp  1000209 non-null  int64\n",
      "dtypes: int64(4)\n",
      "memory usage: 30.5 MB\n"
     ]
    }
   ],
   "source": [
    "ratings_df.info()"
   ]
  },
  {
   "cell_type": "code",
   "execution_count": 7,
   "metadata": {},
   "outputs": [
    {
     "name": "stdout",
     "output_type": "stream",
     "text": [
      "<class 'pandas.core.frame.DataFrame'>\n",
      "RangeIndex: 3883 entries, 0 to 3882\n",
      "Data columns (total 3 columns):\n",
      " #   Column   Non-Null Count  Dtype \n",
      "---  ------   --------------  ----- \n",
      " 0   MovieID  3883 non-null   int64 \n",
      " 1   Title    3883 non-null   object\n",
      " 2   Genres   3883 non-null   object\n",
      "dtypes: int64(1), object(2)\n",
      "memory usage: 91.1+ KB\n"
     ]
    }
   ],
   "source": [
    "movies_df.info()"
   ]
  },
  {
   "cell_type": "code",
   "execution_count": 8,
   "metadata": {},
   "outputs": [
    {
     "name": "stdout",
     "output_type": "stream",
     "text": [
      "<class 'pandas.core.frame.DataFrame'>\n",
      "RangeIndex: 6040 entries, 0 to 6039\n",
      "Data columns (total 5 columns):\n",
      " #   Column      Non-Null Count  Dtype \n",
      "---  ------      --------------  ----- \n",
      " 0   UserID      6040 non-null   int64 \n",
      " 1   Gender      6040 non-null   object\n",
      " 2   Age         6040 non-null   int64 \n",
      " 3   Occupation  6040 non-null   int64 \n",
      " 4   Zip-code    6040 non-null   object\n",
      "dtypes: int64(3), object(2)\n",
      "memory usage: 236.1+ KB\n"
     ]
    }
   ],
   "source": [
    "users_df.info()"
   ]
  },
  {
   "cell_type": "markdown",
   "metadata": {},
   "source": [
    "We can combine all the dataframes into a master data with specific columns."
   ]
  },
  {
   "cell_type": "code",
   "execution_count": 9,
   "metadata": {},
   "outputs": [
    {
     "data": {
      "text/html": [
       "<div>\n",
       "<style scoped>\n",
       "    .dataframe tbody tr th:only-of-type {\n",
       "        vertical-align: middle;\n",
       "    }\n",
       "\n",
       "    .dataframe tbody tr th {\n",
       "        vertical-align: top;\n",
       "    }\n",
       "\n",
       "    .dataframe thead th {\n",
       "        text-align: right;\n",
       "    }\n",
       "</style>\n",
       "<table border=\"1\" class=\"dataframe\">\n",
       "  <thead>\n",
       "    <tr style=\"text-align: right;\">\n",
       "      <th></th>\n",
       "      <th>UserID</th>\n",
       "      <th>Gender</th>\n",
       "      <th>Age</th>\n",
       "      <th>Occupation</th>\n",
       "      <th>Zip-code</th>\n",
       "      <th>MovieID</th>\n",
       "      <th>Rating</th>\n",
       "      <th>Timestamp</th>\n",
       "    </tr>\n",
       "  </thead>\n",
       "  <tbody>\n",
       "    <tr>\n",
       "      <th>0</th>\n",
       "      <td>1</td>\n",
       "      <td>F</td>\n",
       "      <td>1</td>\n",
       "      <td>10</td>\n",
       "      <td>48067</td>\n",
       "      <td>1193</td>\n",
       "      <td>5</td>\n",
       "      <td>978300760</td>\n",
       "    </tr>\n",
       "    <tr>\n",
       "      <th>1</th>\n",
       "      <td>1</td>\n",
       "      <td>F</td>\n",
       "      <td>1</td>\n",
       "      <td>10</td>\n",
       "      <td>48067</td>\n",
       "      <td>661</td>\n",
       "      <td>3</td>\n",
       "      <td>978302109</td>\n",
       "    </tr>\n",
       "    <tr>\n",
       "      <th>2</th>\n",
       "      <td>1</td>\n",
       "      <td>F</td>\n",
       "      <td>1</td>\n",
       "      <td>10</td>\n",
       "      <td>48067</td>\n",
       "      <td>914</td>\n",
       "      <td>3</td>\n",
       "      <td>978301968</td>\n",
       "    </tr>\n",
       "    <tr>\n",
       "      <th>3</th>\n",
       "      <td>1</td>\n",
       "      <td>F</td>\n",
       "      <td>1</td>\n",
       "      <td>10</td>\n",
       "      <td>48067</td>\n",
       "      <td>3408</td>\n",
       "      <td>4</td>\n",
       "      <td>978300275</td>\n",
       "    </tr>\n",
       "    <tr>\n",
       "      <th>4</th>\n",
       "      <td>1</td>\n",
       "      <td>F</td>\n",
       "      <td>1</td>\n",
       "      <td>10</td>\n",
       "      <td>48067</td>\n",
       "      <td>2355</td>\n",
       "      <td>5</td>\n",
       "      <td>978824291</td>\n",
       "    </tr>\n",
       "  </tbody>\n",
       "</table>\n",
       "</div>"
      ],
      "text/plain": [
       "   UserID Gender  Age  Occupation Zip-code  MovieID  Rating  Timestamp\n",
       "0       1      F    1          10    48067     1193       5  978300760\n",
       "1       1      F    1          10    48067      661       3  978302109\n",
       "2       1      F    1          10    48067      914       3  978301968\n",
       "3       1      F    1          10    48067     3408       4  978300275\n",
       "4       1      F    1          10    48067     2355       5  978824291"
      ]
     },
     "execution_count": 9,
     "metadata": {},
     "output_type": "execute_result"
    }
   ],
   "source": [
    "user_rating_df = pd.merge(users_df, ratings_df, on='UserID')\n",
    "user_rating_df.head()"
   ]
  },
  {
   "cell_type": "code",
   "execution_count": 10,
   "metadata": {},
   "outputs": [
    {
     "data": {
      "text/html": [
       "<div>\n",
       "<style scoped>\n",
       "    .dataframe tbody tr th:only-of-type {\n",
       "        vertical-align: middle;\n",
       "    }\n",
       "\n",
       "    .dataframe tbody tr th {\n",
       "        vertical-align: top;\n",
       "    }\n",
       "\n",
       "    .dataframe thead th {\n",
       "        text-align: right;\n",
       "    }\n",
       "</style>\n",
       "<table border=\"1\" class=\"dataframe\">\n",
       "  <thead>\n",
       "    <tr style=\"text-align: right;\">\n",
       "      <th></th>\n",
       "      <th>MovieID</th>\n",
       "      <th>Title</th>\n",
       "      <th>UserID</th>\n",
       "      <th>Age</th>\n",
       "      <th>Occupation</th>\n",
       "      <th>Rating</th>\n",
       "    </tr>\n",
       "  </thead>\n",
       "  <tbody>\n",
       "    <tr>\n",
       "      <th>0</th>\n",
       "      <td>1</td>\n",
       "      <td>Toy Story (1995)</td>\n",
       "      <td>1</td>\n",
       "      <td>1</td>\n",
       "      <td>10</td>\n",
       "      <td>5</td>\n",
       "    </tr>\n",
       "    <tr>\n",
       "      <th>1</th>\n",
       "      <td>1</td>\n",
       "      <td>Toy Story (1995)</td>\n",
       "      <td>6</td>\n",
       "      <td>50</td>\n",
       "      <td>9</td>\n",
       "      <td>4</td>\n",
       "    </tr>\n",
       "    <tr>\n",
       "      <th>2</th>\n",
       "      <td>1</td>\n",
       "      <td>Toy Story (1995)</td>\n",
       "      <td>8</td>\n",
       "      <td>25</td>\n",
       "      <td>12</td>\n",
       "      <td>4</td>\n",
       "    </tr>\n",
       "    <tr>\n",
       "      <th>3</th>\n",
       "      <td>1</td>\n",
       "      <td>Toy Story (1995)</td>\n",
       "      <td>9</td>\n",
       "      <td>25</td>\n",
       "      <td>17</td>\n",
       "      <td>5</td>\n",
       "    </tr>\n",
       "    <tr>\n",
       "      <th>4</th>\n",
       "      <td>1</td>\n",
       "      <td>Toy Story (1995)</td>\n",
       "      <td>10</td>\n",
       "      <td>35</td>\n",
       "      <td>1</td>\n",
       "      <td>5</td>\n",
       "    </tr>\n",
       "  </tbody>\n",
       "</table>\n",
       "</div>"
      ],
      "text/plain": [
       "   MovieID             Title  UserID  Age  Occupation  Rating\n",
       "0        1  Toy Story (1995)       1    1          10       5\n",
       "1        1  Toy Story (1995)       6   50           9       4\n",
       "2        1  Toy Story (1995)       8   25          12       4\n",
       "3        1  Toy Story (1995)       9   25          17       5\n",
       "4        1  Toy Story (1995)      10   35           1       5"
      ]
     },
     "execution_count": 10,
     "metadata": {},
     "output_type": "execute_result"
    }
   ],
   "source": [
    "master_df = pd.merge(movies_df, user_rating_df, on='MovieID')\n",
    "master_df = master_df[['MovieID', 'Title', 'UserID', 'Age', 'Occupation', 'Rating']]\n",
    "master_df.head()"
   ]
  },
  {
   "cell_type": "code",
   "execution_count": 11,
   "metadata": {},
   "outputs": [
    {
     "data": {
      "text/plain": [
       "(1000209, 6)"
      ]
     },
     "execution_count": 11,
     "metadata": {},
     "output_type": "execute_result"
    }
   ],
   "source": [
    "master_df.shape"
   ]
  },
  {
   "cell_type": "code",
   "execution_count": 12,
   "metadata": {},
   "outputs": [
    {
     "name": "stdout",
     "output_type": "stream",
     "text": [
      "<class 'pandas.core.frame.DataFrame'>\n",
      "Int64Index: 1000209 entries, 0 to 1000208\n",
      "Data columns (total 6 columns):\n",
      " #   Column      Non-Null Count    Dtype \n",
      "---  ------      --------------    ----- \n",
      " 0   MovieID     1000209 non-null  int64 \n",
      " 1   Title       1000209 non-null  object\n",
      " 2   UserID      1000209 non-null  int64 \n",
      " 3   Age         1000209 non-null  int64 \n",
      " 4   Occupation  1000209 non-null  int64 \n",
      " 5   Rating      1000209 non-null  int64 \n",
      "dtypes: int64(5), object(1)\n",
      "memory usage: 53.4+ MB\n"
     ]
    }
   ],
   "source": [
    "master_df.info()"
   ]
  },
  {
   "cell_type": "markdown",
   "metadata": {},
   "source": [
    "Now we can analyze our data to get some insights."
   ]
  },
  {
   "cell_type": "code",
   "execution_count": 13,
   "metadata": {},
   "outputs": [
    {
     "data": {
      "image/png": "[encoded data removed]",
      "text/plain": [
       "<Figure size 432x288 with 1 Axes>"
      ]
     },
     "metadata": {
      "needs_background": "light"
     },
     "output_type": "display_data"
    }
   ],
   "source": [
    "# Age Distribution\n",
    "sns.distplot(master_df['Age'])\n",
    "plt.show()"
   ]
  },
  {
   "cell_type": "markdown",
   "metadata": {},
   "source": [
    "We can people age in between 0 and 56. Here the values are not actual age, rather 1 belongs to people under 18, 18 means 18 to 24 etc. Most of the people who watch movies and also give ratings are the people with age in between 20-30. As per the notation, these are the people with age 25 means people having age in between 25 to 34."
   ]
  },
  {
   "cell_type": "code",
   "execution_count": 14,
   "metadata": {},
   "outputs": [
    {
     "name": "stdout",
     "output_type": "stream",
     "text": [
      "Max rating given to Toy story 5\n",
      "Avg rating given to Toy story 4\n",
      "Distribution as follows\n",
      "\n"
     ]
    },
    {
     "data": {
      "image/png": "[encoded data removed]",
      "text/plain": [
       "<Figure size 432x288 with 1 Axes>"
      ]
     },
     "metadata": {
      "needs_background": "light"
     },
     "output_type": "display_data"
    }
   ],
   "source": [
    "# User rating for movie Toy-story\n",
    "toy_story_ratings = master_df[master_df['Title'] == 'Toy Story (1995)']['Rating']\n",
    "print('Max rating given to Toy story', toy_story_ratings.max())\n",
    "print('Avg rating given to Toy story', int(toy_story_ratings.mean()))\n",
    "print('Distribution as follows\\n')\n",
    "sns.countplot(toy_story_ratings)\n",
    "plt.show()"
   ]
  },
  {
   "cell_type": "markdown",
   "metadata": {},
   "source": [
    "It seems Toy story is loved by many people as most of the people have given 4 and 5 ratings."
   ]
  },
  {
   "cell_type": "code",
   "execution_count": 15,
   "metadata": {},
   "outputs": [
    {
     "data": {
      "text/plain": [
       "['Gate of Heavenly Peace, The (1995)',\n",
       " 'Lured (1947)',\n",
       " 'Ulysses (Ulisse) (1954)',\n",
       " 'Smashing Time (1967)',\n",
       " 'Follow the Bitch (1998)',\n",
       " 'Song of Freedom (1936)',\n",
       " 'Bittersweet Motel (2000)',\n",
       " 'Baby, The (1973)',\n",
       " 'One Little Indian (1973)',\n",
       " 'Schlafes Bruder (Brother of Sleep) (1995)',\n",
       " 'I Am Cuba (Soy Cuba/Ya Kuba) (1964)',\n",
       " 'Lamerica (1994)',\n",
       " 'Apple, The (Sib) (1998)',\n",
       " 'Sanjuro (1962)',\n",
       " 'Seven Samurai (The Magnificent Seven) (Shichinin no samurai) (1954)',\n",
       " 'Shawshank Redemption, The (1994)',\n",
       " 'Godfather, The (1972)',\n",
       " 'Close Shave, A (1995)',\n",
       " 'Usual Suspects, The (1995)',\n",
       " \"Schindler's List (1993)\",\n",
       " 'Wrong Trousers, The (1993)',\n",
       " 'Dangerous Game (1993)',\n",
       " 'Mamma Roma (1962)',\n",
       " 'Inheritors, The (Die Siebtelbauern) (1998)',\n",
       " 'Hour of the Pig, The (1993)']"
      ]
     },
     "execution_count": 15,
     "metadata": {},
     "output_type": "execute_result"
    }
   ],
   "source": [
    "# Top 25 movies based on ratings\n",
    "\n",
    "top_movies_by_ratings = (master_df.groupby('Title')['Rating'].mean()).sort_values(ascending=False).iloc[:25]\n",
    "top_movies_by_ratings.index.values.tolist()"
   ]
  },
  {
   "cell_type": "code",
   "execution_count": 16,
   "metadata": {},
   "outputs": [
    {
     "data": {
      "image/png": "[encoded data removed]",
      "text/plain": [
       "<Figure size 432x288 with 1 Axes>"
      ]
     },
     "metadata": {
      "needs_background": "light"
     },
     "output_type": "display_data"
    }
   ],
   "source": [
    "# Rating of all the movies rated by a user 2696\n",
    "ratings_2696 = master_df[master_df['UserID'] == 2696]['Rating']\n",
    "ratings_2696.values\n",
    "\n",
    "sns.countplot(ratings_2696)\n",
    "plt.show()"
   ]
  },
  {
   "cell_type": "markdown",
   "metadata": {},
   "source": [
    "The user 2696 has given most of his/her ratigs as 4."
   ]
  },
  {
   "cell_type": "markdown",
   "metadata": {},
   "source": [
    "We can add Genres column to master dataset and do further analysis on that."
   ]
  },
  {
   "cell_type": "code",
   "execution_count": 17,
   "metadata": {},
   "outputs": [
    {
     "data": {
      "text/html": [
       "<div>\n",
       "<style scoped>\n",
       "    .dataframe tbody tr th:only-of-type {\n",
       "        vertical-align: middle;\n",
       "    }\n",
       "\n",
       "    .dataframe tbody tr th {\n",
       "        vertical-align: top;\n",
       "    }\n",
       "\n",
       "    .dataframe thead th {\n",
       "        text-align: right;\n",
       "    }\n",
       "</style>\n",
       "<table border=\"1\" class=\"dataframe\">\n",
       "  <thead>\n",
       "    <tr style=\"text-align: right;\">\n",
       "      <th></th>\n",
       "      <th>MovieID</th>\n",
       "      <th>Title</th>\n",
       "      <th>UserID</th>\n",
       "      <th>Age</th>\n",
       "      <th>Occupation</th>\n",
       "      <th>Rating</th>\n",
       "      <th>Genres</th>\n",
       "    </tr>\n",
       "  </thead>\n",
       "  <tbody>\n",
       "    <tr>\n",
       "      <th>0</th>\n",
       "      <td>1</td>\n",
       "      <td>Toy Story (1995)</td>\n",
       "      <td>1</td>\n",
       "      <td>1</td>\n",
       "      <td>10</td>\n",
       "      <td>5</td>\n",
       "      <td>Animation|Children's|Comedy</td>\n",
       "    </tr>\n",
       "    <tr>\n",
       "      <th>1</th>\n",
       "      <td>1</td>\n",
       "      <td>Toy Story (1995)</td>\n",
       "      <td>6</td>\n",
       "      <td>50</td>\n",
       "      <td>9</td>\n",
       "      <td>4</td>\n",
       "      <td>Animation|Children's|Comedy</td>\n",
       "    </tr>\n",
       "    <tr>\n",
       "      <th>2</th>\n",
       "      <td>1</td>\n",
       "      <td>Toy Story (1995)</td>\n",
       "      <td>8</td>\n",
       "      <td>25</td>\n",
       "      <td>12</td>\n",
       "      <td>4</td>\n",
       "      <td>Animation|Children's|Comedy</td>\n",
       "    </tr>\n",
       "    <tr>\n",
       "      <th>3</th>\n",
       "      <td>1</td>\n",
       "      <td>Toy Story (1995)</td>\n",
       "      <td>9</td>\n",
       "      <td>25</td>\n",
       "      <td>17</td>\n",
       "      <td>5</td>\n",
       "      <td>Animation|Children's|Comedy</td>\n",
       "    </tr>\n",
       "    <tr>\n",
       "      <th>4</th>\n",
       "      <td>1</td>\n",
       "      <td>Toy Story (1995)</td>\n",
       "      <td>10</td>\n",
       "      <td>35</td>\n",
       "      <td>1</td>\n",
       "      <td>5</td>\n",
       "      <td>Animation|Children's|Comedy</td>\n",
       "    </tr>\n",
       "  </tbody>\n",
       "</table>\n",
       "</div>"
      ],
      "text/plain": [
       "   MovieID             Title  UserID  Age  Occupation  Rating  \\\n",
       "0        1  Toy Story (1995)       1    1          10       5   \n",
       "1        1  Toy Story (1995)       6   50           9       4   \n",
       "2        1  Toy Story (1995)       8   25          12       4   \n",
       "3        1  Toy Story (1995)       9   25          17       5   \n",
       "4        1  Toy Story (1995)      10   35           1       5   \n",
       "\n",
       "                        Genres  \n",
       "0  Animation|Children's|Comedy  \n",
       "1  Animation|Children's|Comedy  \n",
       "2  Animation|Children's|Comedy  \n",
       "3  Animation|Children's|Comedy  \n",
       "4  Animation|Children's|Comedy  "
      ]
     },
     "execution_count": 17,
     "metadata": {},
     "output_type": "execute_result"
    }
   ],
   "source": [
    "master_df = pd.merge(master_df, movies_df[['MovieID', 'Genres']], on='MovieID')\n",
    "master_df.head()"
   ]
  },
  {
   "cell_type": "code",
   "execution_count": 18,
   "metadata": {},
   "outputs": [
    {
     "data": {
      "text/plain": [
       "0    [Animation, Children's, Comedy]\n",
       "1    [Animation, Children's, Comedy]\n",
       "2    [Animation, Children's, Comedy]\n",
       "3    [Animation, Children's, Comedy]\n",
       "4    [Animation, Children's, Comedy]\n",
       "Name: Genres, dtype: object"
      ]
     },
     "execution_count": 18,
     "metadata": {},
     "output_type": "execute_result"
    }
   ],
   "source": [
    "# Get unique Genres\n",
    "master_df['Genres'] = master_df['Genres'].apply(lambda x: x.split('|'))\n",
    "master_df['Genres'][:5]"
   ]
  },
  {
   "cell_type": "code",
   "execution_count": 19,
   "metadata": {},
   "outputs": [
    {
     "data": {
      "text/plain": [
       "{'Action',\n",
       " 'Adventure',\n",
       " 'Animation',\n",
       " \"Children's\",\n",
       " 'Comedy',\n",
       " 'Crime',\n",
       " 'Documentary',\n",
       " 'Drama',\n",
       " 'Fantasy',\n",
       " 'Film-Noir',\n",
       " 'Horror',\n",
       " 'Musical',\n",
       " 'Mystery',\n",
       " 'Romance',\n",
       " 'Sci-Fi',\n",
       " 'Thriller',\n",
       " 'War',\n",
       " 'Western'}"
      ]
     },
     "execution_count": 19,
     "metadata": {},
     "output_type": "execute_result"
    }
   ],
   "source": [
    "unique_genres = set()\n",
    "for genres in master_df['Genres']:\n",
    "    unique_genres.update(genres)\n",
    "unique_genres    "
   ]
  },
  {
   "cell_type": "markdown",
   "metadata": {},
   "source": [
    "We have total 18 genres across all the movies.\n",
    "\n",
    "Do One Hot Encoding on the Genres (We can use CountVectorizer)"
   ]
  },
  {
   "cell_type": "code",
   "execution_count": 20,
   "metadata": {},
   "outputs": [
    {
     "data": {
      "text/plain": [
       "0    Animation Children's Comedy\n",
       "1    Animation Children's Comedy\n",
       "2    Animation Children's Comedy\n",
       "3    Animation Children's Comedy\n",
       "4    Animation Children's Comedy\n",
       "Name: Genres, dtype: object"
      ]
     },
     "execution_count": 20,
     "metadata": {},
     "output_type": "execute_result"
    }
   ],
   "source": [
    "master_df['Genres'] = master_df['Genres'].apply(lambda x: ' '.join(x))\n",
    "master_df['Genres'][:5]"
   ]
  },
  {
   "cell_type": "code",
   "execution_count": 21,
   "metadata": {},
   "outputs": [
    {
     "name": "stdout",
     "output_type": "stream",
     "text": [
      "(1000209, 20)\n"
     ]
    },
    {
     "data": {
      "text/html": [
       "<div>\n",
       "<style scoped>\n",
       "    .dataframe tbody tr th:only-of-type {\n",
       "        vertical-align: middle;\n",
       "    }\n",
       "\n",
       "    .dataframe tbody tr th {\n",
       "        vertical-align: top;\n",
       "    }\n",
       "\n",
       "    .dataframe thead th {\n",
       "        text-align: right;\n",
       "    }\n",
       "</style>\n",
       "<table border=\"1\" class=\"dataframe\">\n",
       "  <thead>\n",
       "    <tr style=\"text-align: right;\">\n",
       "      <th></th>\n",
       "      <th>action</th>\n",
       "      <th>adventure</th>\n",
       "      <th>animation</th>\n",
       "      <th>children</th>\n",
       "      <th>comedy</th>\n",
       "      <th>crime</th>\n",
       "      <th>documentary</th>\n",
       "      <th>drama</th>\n",
       "      <th>fantasy</th>\n",
       "      <th>fi</th>\n",
       "      <th>film</th>\n",
       "      <th>horror</th>\n",
       "      <th>musical</th>\n",
       "      <th>mystery</th>\n",
       "      <th>noir</th>\n",
       "      <th>romance</th>\n",
       "      <th>sci</th>\n",
       "      <th>thriller</th>\n",
       "      <th>war</th>\n",
       "      <th>western</th>\n",
       "    </tr>\n",
       "  </thead>\n",
       "  <tbody>\n",
       "    <tr>\n",
       "      <th>0</th>\n",
       "      <td>0</td>\n",
       "      <td>0</td>\n",
       "      <td>1</td>\n",
       "      <td>1</td>\n",
       "      <td>1</td>\n",
       "      <td>0</td>\n",
       "      <td>0</td>\n",
       "      <td>0</td>\n",
       "      <td>0</td>\n",
       "      <td>0</td>\n",
       "      <td>0</td>\n",
       "      <td>0</td>\n",
       "      <td>0</td>\n",
       "      <td>0</td>\n",
       "      <td>0</td>\n",
       "      <td>0</td>\n",
       "      <td>0</td>\n",
       "      <td>0</td>\n",
       "      <td>0</td>\n",
       "      <td>0</td>\n",
       "    </tr>\n",
       "    <tr>\n",
       "      <th>1</th>\n",
       "      <td>0</td>\n",
       "      <td>0</td>\n",
       "      <td>1</td>\n",
       "      <td>1</td>\n",
       "      <td>1</td>\n",
       "      <td>0</td>\n",
       "      <td>0</td>\n",
       "      <td>0</td>\n",
       "      <td>0</td>\n",
       "      <td>0</td>\n",
       "      <td>0</td>\n",
       "      <td>0</td>\n",
       "      <td>0</td>\n",
       "      <td>0</td>\n",
       "      <td>0</td>\n",
       "      <td>0</td>\n",
       "      <td>0</td>\n",
       "      <td>0</td>\n",
       "      <td>0</td>\n",
       "      <td>0</td>\n",
       "    </tr>\n",
       "    <tr>\n",
       "      <th>2</th>\n",
       "      <td>0</td>\n",
       "      <td>0</td>\n",
       "      <td>1</td>\n",
       "      <td>1</td>\n",
       "      <td>1</td>\n",
       "      <td>0</td>\n",
       "      <td>0</td>\n",
       "      <td>0</td>\n",
       "      <td>0</td>\n",
       "      <td>0</td>\n",
       "      <td>0</td>\n",
       "      <td>0</td>\n",
       "      <td>0</td>\n",
       "      <td>0</td>\n",
       "      <td>0</td>\n",
       "      <td>0</td>\n",
       "      <td>0</td>\n",
       "      <td>0</td>\n",
       "      <td>0</td>\n",
       "      <td>0</td>\n",
       "    </tr>\n",
       "    <tr>\n",
       "      <th>3</th>\n",
       "      <td>0</td>\n",
       "      <td>0</td>\n",
       "      <td>1</td>\n",
       "      <td>1</td>\n",
       "      <td>1</td>\n",
       "      <td>0</td>\n",
       "      <td>0</td>\n",
       "      <td>0</td>\n",
       "      <td>0</td>\n",
       "      <td>0</td>\n",
       "      <td>0</td>\n",
       "      <td>0</td>\n",
       "      <td>0</td>\n",
       "      <td>0</td>\n",
       "      <td>0</td>\n",
       "      <td>0</td>\n",
       "      <td>0</td>\n",
       "      <td>0</td>\n",
       "      <td>0</td>\n",
       "      <td>0</td>\n",
       "    </tr>\n",
       "    <tr>\n",
       "      <th>4</th>\n",
       "      <td>0</td>\n",
       "      <td>0</td>\n",
       "      <td>1</td>\n",
       "      <td>1</td>\n",
       "      <td>1</td>\n",
       "      <td>0</td>\n",
       "      <td>0</td>\n",
       "      <td>0</td>\n",
       "      <td>0</td>\n",
       "      <td>0</td>\n",
       "      <td>0</td>\n",
       "      <td>0</td>\n",
       "      <td>0</td>\n",
       "      <td>0</td>\n",
       "      <td>0</td>\n",
       "      <td>0</td>\n",
       "      <td>0</td>\n",
       "      <td>0</td>\n",
       "      <td>0</td>\n",
       "      <td>0</td>\n",
       "    </tr>\n",
       "  </tbody>\n",
       "</table>\n",
       "</div>"
      ],
      "text/plain": [
       "   action  adventure  animation  children  comedy  crime  documentary  drama  \\\n",
       "0       0          0          1         1       1      0            0      0   \n",
       "1       0          0          1         1       1      0            0      0   \n",
       "2       0          0          1         1       1      0            0      0   \n",
       "3       0          0          1         1       1      0            0      0   \n",
       "4       0          0          1         1       1      0            0      0   \n",
       "\n",
       "   fantasy  fi  film  horror  musical  mystery  noir  romance  sci  thriller  \\\n",
       "0        0   0     0       0        0        0     0        0    0         0   \n",
       "1        0   0     0       0        0        0     0        0    0         0   \n",
       "2        0   0     0       0        0        0     0        0    0         0   \n",
       "3        0   0     0       0        0        0     0        0    0         0   \n",
       "4        0   0     0       0        0        0     0        0    0         0   \n",
       "\n",
       "   war  western  \n",
       "0    0        0  \n",
       "1    0        0  \n",
       "2    0        0  \n",
       "3    0        0  \n",
       "4    0        0  "
      ]
     },
     "execution_count": 21,
     "metadata": {},
     "output_type": "execute_result"
    }
   ],
   "source": [
    "cv = CountVectorizer()\n",
    "encoded = cv.fit_transform(master_df['Genres'])\n",
    "encoded_df = pd.DataFrame(encoded.toarray(), columns=cv.get_feature_names())\n",
    "print(encoded_df.shape)\n",
    "encoded_df.head()"
   ]
  },
  {
   "cell_type": "code",
   "execution_count": 22,
   "metadata": {},
   "outputs": [
    {
     "name": "stdout",
     "output_type": "stream",
     "text": [
      "<class 'pandas.core.frame.DataFrame'>\n",
      "Int64Index: 1000209 entries, 0 to 1000208\n",
      "Data columns (total 26 columns):\n",
      " #   Column       Non-Null Count    Dtype \n",
      "---  ------       --------------    ----- \n",
      " 0   MovieID      1000209 non-null  int64 \n",
      " 1   Title        1000209 non-null  object\n",
      " 2   UserID       1000209 non-null  int64 \n",
      " 3   Age          1000209 non-null  int64 \n",
      " 4   Occupation   1000209 non-null  int64 \n",
      " 5   Rating       1000209 non-null  int64 \n",
      " 6   action       1000209 non-null  int64 \n",
      " 7   adventure    1000209 non-null  int64 \n",
      " 8   animation    1000209 non-null  int64 \n",
      " 9   children     1000209 non-null  int64 \n",
      " 10  comedy       1000209 non-null  int64 \n",
      " 11  crime        1000209 non-null  int64 \n",
      " 12  documentary  1000209 non-null  int64 \n",
      " 13  drama        1000209 non-null  int64 \n",
      " 14  fantasy      1000209 non-null  int64 \n",
      " 15  fi           1000209 non-null  int64 \n",
      " 16  film         1000209 non-null  int64 \n",
      " 17  horror       1000209 non-null  int64 \n",
      " 18  musical      1000209 non-null  int64 \n",
      " 19  mystery      1000209 non-null  int64 \n",
      " 20  noir         1000209 non-null  int64 \n",
      " 21  romance      1000209 non-null  int64 \n",
      " 22  sci          1000209 non-null  int64 \n",
      " 23  thriller     1000209 non-null  int64 \n",
      " 24  war          1000209 non-null  int64 \n",
      " 25  western      1000209 non-null  int64 \n",
      "dtypes: int64(25), object(1)\n",
      "memory usage: 206.0+ MB\n"
     ]
    }
   ],
   "source": [
    "# combine it with master dataframe\n",
    "master_df = pd.concat([master_df.drop('Genres', axis=1), encoded_df], axis=1)\n",
    "master_df.info()"
   ]
  },
  {
   "cell_type": "code",
   "execution_count": 23,
   "metadata": {},
   "outputs": [
    {
     "data": {
      "text/html": [
       "<div>\n",
       "<style scoped>\n",
       "    .dataframe tbody tr th:only-of-type {\n",
       "        vertical-align: middle;\n",
       "    }\n",
       "\n",
       "    .dataframe tbody tr th {\n",
       "        vertical-align: top;\n",
       "    }\n",
       "\n",
       "    .dataframe thead th {\n",
       "        text-align: right;\n",
       "    }\n",
       "</style>\n",
       "<table border=\"1\" class=\"dataframe\">\n",
       "  <thead>\n",
       "    <tr style=\"text-align: right;\">\n",
       "      <th></th>\n",
       "      <th>MovieID</th>\n",
       "      <th>UserID</th>\n",
       "      <th>Age</th>\n",
       "      <th>Occupation</th>\n",
       "      <th>Rating</th>\n",
       "      <th>action</th>\n",
       "      <th>adventure</th>\n",
       "      <th>animation</th>\n",
       "      <th>children</th>\n",
       "      <th>comedy</th>\n",
       "      <th>...</th>\n",
       "      <th>film</th>\n",
       "      <th>horror</th>\n",
       "      <th>musical</th>\n",
       "      <th>mystery</th>\n",
       "      <th>noir</th>\n",
       "      <th>romance</th>\n",
       "      <th>sci</th>\n",
       "      <th>thriller</th>\n",
       "      <th>war</th>\n",
       "      <th>western</th>\n",
       "    </tr>\n",
       "  </thead>\n",
       "  <tbody>\n",
       "    <tr>\n",
       "      <th>MovieID</th>\n",
       "      <td>1.000000</td>\n",
       "      <td>-0.017739</td>\n",
       "      <td>0.027575</td>\n",
       "      <td>0.008585</td>\n",
       "      <td>-0.064042</td>\n",
       "      <td>-0.042046</td>\n",
       "      <td>-0.082413</td>\n",
       "      <td>-0.014177</td>\n",
       "      <td>-0.071589</td>\n",
       "      <td>0.061667</td>\n",
       "      <td>...</td>\n",
       "      <td>-0.019655</td>\n",
       "      <td>0.057613</td>\n",
       "      <td>-0.059381</td>\n",
       "      <td>-0.028561</td>\n",
       "      <td>-0.019655</td>\n",
       "      <td>-0.118375</td>\n",
       "      <td>-0.011747</td>\n",
       "      <td>-0.058418</td>\n",
       "      <td>-0.081951</td>\n",
       "      <td>0.003940</td>\n",
       "    </tr>\n",
       "    <tr>\n",
       "      <th>UserID</th>\n",
       "      <td>-0.017739</td>\n",
       "      <td>1.000000</td>\n",
       "      <td>0.034688</td>\n",
       "      <td>-0.026698</td>\n",
       "      <td>0.012303</td>\n",
       "      <td>-0.002023</td>\n",
       "      <td>-0.000683</td>\n",
       "      <td>-0.007665</td>\n",
       "      <td>-0.004862</td>\n",
       "      <td>-0.003651</td>\n",
       "      <td>...</td>\n",
       "      <td>0.004701</td>\n",
       "      <td>-0.001392</td>\n",
       "      <td>-0.000222</td>\n",
       "      <td>0.004334</td>\n",
       "      <td>0.004701</td>\n",
       "      <td>0.006834</td>\n",
       "      <td>-0.003283</td>\n",
       "      <td>-0.001107</td>\n",
       "      <td>0.003502</td>\n",
       "      <td>0.004114</td>\n",
       "    </tr>\n",
       "    <tr>\n",
       "      <th>Age</th>\n",
       "      <td>0.027575</td>\n",
       "      <td>0.034688</td>\n",
       "      <td>1.000000</td>\n",
       "      <td>0.078371</td>\n",
       "      <td>0.056869</td>\n",
       "      <td>-0.030975</td>\n",
       "      <td>-0.016730</td>\n",
       "      <td>-0.047020</td>\n",
       "      <td>-0.052858</td>\n",
       "      <td>-0.044046</td>\n",
       "      <td>...</td>\n",
       "      <td>0.033495</td>\n",
       "      <td>-0.023901</td>\n",
       "      <td>0.005158</td>\n",
       "      <td>0.024308</td>\n",
       "      <td>0.033495</td>\n",
       "      <td>0.017503</td>\n",
       "      <td>-0.010879</td>\n",
       "      <td>-0.014100</td>\n",
       "      <td>0.038446</td>\n",
       "      <td>0.038177</td>\n",
       "    </tr>\n",
       "    <tr>\n",
       "      <th>Occupation</th>\n",
       "      <td>0.008585</td>\n",
       "      <td>-0.026698</td>\n",
       "      <td>0.078371</td>\n",
       "      <td>1.000000</td>\n",
       "      <td>0.006753</td>\n",
       "      <td>0.018347</td>\n",
       "      <td>0.014309</td>\n",
       "      <td>-0.003834</td>\n",
       "      <td>-0.006906</td>\n",
       "      <td>-0.006149</td>\n",
       "      <td>...</td>\n",
       "      <td>0.005246</td>\n",
       "      <td>0.001439</td>\n",
       "      <td>-0.007312</td>\n",
       "      <td>0.002421</td>\n",
       "      <td>0.005246</td>\n",
       "      <td>-0.014018</td>\n",
       "      <td>0.026250</td>\n",
       "      <td>0.008981</td>\n",
       "      <td>0.010264</td>\n",
       "      <td>0.005924</td>\n",
       "    </tr>\n",
       "    <tr>\n",
       "      <th>Rating</th>\n",
       "      <td>-0.064042</td>\n",
       "      <td>0.012303</td>\n",
       "      <td>0.056869</td>\n",
       "      <td>0.006753</td>\n",
       "      <td>1.000000</td>\n",
       "      <td>-0.047633</td>\n",
       "      <td>-0.036718</td>\n",
       "      <td>0.019670</td>\n",
       "      <td>-0.039829</td>\n",
       "      <td>-0.039622</td>\n",
       "      <td>...</td>\n",
       "      <td>0.060259</td>\n",
       "      <td>-0.094353</td>\n",
       "      <td>0.015643</td>\n",
       "      <td>0.015848</td>\n",
       "      <td>0.060259</td>\n",
       "      <td>0.009644</td>\n",
       "      <td>-0.044487</td>\n",
       "      <td>-0.004806</td>\n",
       "      <td>0.075688</td>\n",
       "      <td>0.007311</td>\n",
       "    </tr>\n",
       "    <tr>\n",
       "      <th>action</th>\n",
       "      <td>-0.042046</td>\n",
       "      <td>-0.002023</td>\n",
       "      <td>-0.030975</td>\n",
       "      <td>0.018347</td>\n",
       "      <td>-0.047633</td>\n",
       "      <td>1.000000</td>\n",
       "      <td>0.374961</td>\n",
       "      <td>-0.110294</td>\n",
       "      <td>-0.141314</td>\n",
       "      <td>-0.268092</td>\n",
       "      <td>...</td>\n",
       "      <td>-0.080288</td>\n",
       "      <td>-0.042733</td>\n",
       "      <td>-0.100432</td>\n",
       "      <td>-0.054084</td>\n",
       "      <td>-0.080288</td>\n",
       "      <td>-0.067830</td>\n",
       "      <td>0.319117</td>\n",
       "      <td>0.202756</td>\n",
       "      <td>0.135872</td>\n",
       "      <td>0.022242</td>\n",
       "    </tr>\n",
       "    <tr>\n",
       "      <th>adventure</th>\n",
       "      <td>-0.082413</td>\n",
       "      <td>-0.000683</td>\n",
       "      <td>-0.016730</td>\n",
       "      <td>0.014309</td>\n",
       "      <td>-0.036718</td>\n",
       "      <td>0.374961</td>\n",
       "      <td>1.000000</td>\n",
       "      <td>0.004732</td>\n",
       "      <td>0.098283</td>\n",
       "      <td>-0.124960</td>\n",
       "      <td>...</td>\n",
       "      <td>-0.014178</td>\n",
       "      <td>-0.057256</td>\n",
       "      <td>-0.022327</td>\n",
       "      <td>-0.043503</td>\n",
       "      <td>-0.014178</td>\n",
       "      <td>-0.024389</td>\n",
       "      <td>0.284190</td>\n",
       "      <td>-0.038423</td>\n",
       "      <td>0.016647</td>\n",
       "      <td>-0.011964</td>\n",
       "    </tr>\n",
       "    <tr>\n",
       "      <th>animation</th>\n",
       "      <td>-0.014177</td>\n",
       "      <td>-0.007665</td>\n",
       "      <td>-0.047020</td>\n",
       "      <td>-0.003834</td>\n",
       "      <td>0.019670</td>\n",
       "      <td>-0.110294</td>\n",
       "      <td>0.004732</td>\n",
       "      <td>1.000000</td>\n",
       "      <td>0.576204</td>\n",
       "      <td>0.018544</td>\n",
       "      <td>...</td>\n",
       "      <td>0.037013</td>\n",
       "      <td>-0.049730</td>\n",
       "      <td>0.335231</td>\n",
       "      <td>-0.042488</td>\n",
       "      <td>0.037013</td>\n",
       "      <td>-0.054540</td>\n",
       "      <td>-0.055526</td>\n",
       "      <td>-0.085713</td>\n",
       "      <td>-0.046114</td>\n",
       "      <td>-0.030908</td>\n",
       "    </tr>\n",
       "    <tr>\n",
       "      <th>children</th>\n",
       "      <td>-0.071589</td>\n",
       "      <td>-0.004862</td>\n",
       "      <td>-0.052858</td>\n",
       "      <td>-0.006906</td>\n",
       "      <td>-0.039829</td>\n",
       "      <td>-0.141314</td>\n",
       "      <td>0.098283</td>\n",
       "      <td>0.576204</td>\n",
       "      <td>1.000000</td>\n",
       "      <td>0.058711</td>\n",
       "      <td>...</td>\n",
       "      <td>-0.038033</td>\n",
       "      <td>-0.077099</td>\n",
       "      <td>0.312567</td>\n",
       "      <td>-0.052786</td>\n",
       "      <td>-0.038033</td>\n",
       "      <td>-0.084550</td>\n",
       "      <td>-0.038844</td>\n",
       "      <td>-0.132642</td>\n",
       "      <td>-0.066539</td>\n",
       "      <td>-0.031269</td>\n",
       "    </tr>\n",
       "    <tr>\n",
       "      <th>comedy</th>\n",
       "      <td>0.061667</td>\n",
       "      <td>-0.003651</td>\n",
       "      <td>-0.044046</td>\n",
       "      <td>-0.006149</td>\n",
       "      <td>-0.039622</td>\n",
       "      <td>-0.268092</td>\n",
       "      <td>-0.124960</td>\n",
       "      <td>0.018544</td>\n",
       "      <td>0.058711</td>\n",
       "      <td>1.000000</td>\n",
       "      <td>...</td>\n",
       "      <td>-0.101425</td>\n",
       "      <td>-0.093064</td>\n",
       "      <td>0.030566</td>\n",
       "      <td>-0.105346</td>\n",
       "      <td>-0.101425</td>\n",
       "      <td>0.112843</td>\n",
       "      <td>-0.187079</td>\n",
       "      <td>-0.299501</td>\n",
       "      <td>-0.127101</td>\n",
       "      <td>0.007927</td>\n",
       "    </tr>\n",
       "    <tr>\n",
       "      <th>crime</th>\n",
       "      <td>-0.061896</td>\n",
       "      <td>0.003469</td>\n",
       "      <td>-0.007931</td>\n",
       "      <td>0.002821</td>\n",
       "      <td>0.033446</td>\n",
       "      <td>0.088519</td>\n",
       "      <td>-0.045924</td>\n",
       "      <td>-0.062520</td>\n",
       "      <td>-0.081977</td>\n",
       "      <td>-0.078030</td>\n",
       "      <td>...</td>\n",
       "      <td>0.136237</td>\n",
       "      <td>-0.047899</td>\n",
       "      <td>-0.061179</td>\n",
       "      <td>0.080093</td>\n",
       "      <td>0.136237</td>\n",
       "      <td>-0.073320</td>\n",
       "      <td>-0.083730</td>\n",
       "      <td>0.115095</td>\n",
       "      <td>-0.079715</td>\n",
       "      <td>-0.042711</td>\n",
       "    </tr>\n",
       "    <tr>\n",
       "      <th>documentary</th>\n",
       "      <td>-0.009544</td>\n",
       "      <td>-0.001064</td>\n",
       "      <td>0.004407</td>\n",
       "      <td>-0.002689</td>\n",
       "      <td>0.028098</td>\n",
       "      <td>-0.052565</td>\n",
       "      <td>-0.035109</td>\n",
       "      <td>-0.018991</td>\n",
       "      <td>-0.024901</td>\n",
       "      <td>-0.040697</td>\n",
       "      <td>...</td>\n",
       "      <td>-0.012175</td>\n",
       "      <td>-0.025673</td>\n",
       "      <td>-0.007155</td>\n",
       "      <td>-0.018265</td>\n",
       "      <td>-0.012175</td>\n",
       "      <td>-0.037137</td>\n",
       "      <td>-0.038568</td>\n",
       "      <td>-0.043191</td>\n",
       "      <td>-0.016082</td>\n",
       "      <td>-0.012974</td>\n",
       "    </tr>\n",
       "    <tr>\n",
       "      <th>drama</th>\n",
       "      <td>-0.030856</td>\n",
       "      <td>0.006572</td>\n",
       "      <td>0.063856</td>\n",
       "      <td>-0.012326</td>\n",
       "      <td>0.122561</td>\n",
       "      <td>-0.202415</td>\n",
       "      <td>-0.194570</td>\n",
       "      <td>-0.154479</td>\n",
       "      <td>-0.135707</td>\n",
       "      <td>-0.249840</td>\n",
       "      <td>...</td>\n",
       "      <td>-0.067297</td>\n",
       "      <td>-0.189551</td>\n",
       "      <td>-0.094778</td>\n",
       "      <td>-0.027689</td>\n",
       "      <td>-0.067297</td>\n",
       "      <td>0.023552</td>\n",
       "      <td>-0.212747</td>\n",
       "      <td>-0.153717</td>\n",
       "      <td>0.136582</td>\n",
       "      <td>-0.045945</td>\n",
       "    </tr>\n",
       "    <tr>\n",
       "      <th>fantasy</th>\n",
       "      <td>-0.018792</td>\n",
       "      <td>0.002212</td>\n",
       "      <td>-0.024222</td>\n",
       "      <td>0.001299</td>\n",
       "      <td>-0.023312</td>\n",
       "      <td>0.014551</td>\n",
       "      <td>0.227046</td>\n",
       "      <td>0.012025</td>\n",
       "      <td>0.263280</td>\n",
       "      <td>-0.006010</td>\n",
       "      <td>...</td>\n",
       "      <td>-0.026464</td>\n",
       "      <td>-0.055803</td>\n",
       "      <td>-0.020134</td>\n",
       "      <td>-0.039700</td>\n",
       "      <td>-0.026464</td>\n",
       "      <td>-0.014822</td>\n",
       "      <td>0.121843</td>\n",
       "      <td>-0.087374</td>\n",
       "      <td>-0.044928</td>\n",
       "      <td>-0.028199</td>\n",
       "    </tr>\n",
       "    <tr>\n",
       "      <th>fi</th>\n",
       "      <td>-0.011747</td>\n",
       "      <td>-0.003283</td>\n",
       "      <td>-0.010879</td>\n",
       "      <td>0.026250</td>\n",
       "      <td>-0.044487</td>\n",
       "      <td>0.319117</td>\n",
       "      <td>0.284190</td>\n",
       "      <td>-0.055526</td>\n",
       "      <td>-0.038844</td>\n",
       "      <td>-0.187079</td>\n",
       "      <td>...</td>\n",
       "      <td>-0.004056</td>\n",
       "      <td>0.056505</td>\n",
       "      <td>-0.068012</td>\n",
       "      <td>-0.028273</td>\n",
       "      <td>-0.004056</td>\n",
       "      <td>-0.133752</td>\n",
       "      <td>1.000000</td>\n",
       "      <td>0.102546</td>\n",
       "      <td>0.039314</td>\n",
       "      <td>-0.010935</td>\n",
       "    </tr>\n",
       "    <tr>\n",
       "      <th>film</th>\n",
       "      <td>-0.019655</td>\n",
       "      <td>0.004701</td>\n",
       "      <td>0.033495</td>\n",
       "      <td>0.005246</td>\n",
       "      <td>0.060259</td>\n",
       "      <td>-0.080288</td>\n",
       "      <td>-0.014178</td>\n",
       "      <td>0.037013</td>\n",
       "      <td>-0.038033</td>\n",
       "      <td>-0.101425</td>\n",
       "      <td>...</td>\n",
       "      <td>1.000000</td>\n",
       "      <td>-0.039157</td>\n",
       "      <td>-0.028384</td>\n",
       "      <td>0.215354</td>\n",
       "      <td>1.000000</td>\n",
       "      <td>-0.047351</td>\n",
       "      <td>-0.004056</td>\n",
       "      <td>0.115231</td>\n",
       "      <td>-0.036984</td>\n",
       "      <td>-0.019816</td>\n",
       "    </tr>\n",
       "    <tr>\n",
       "      <th>horror</th>\n",
       "      <td>0.057613</td>\n",
       "      <td>-0.001392</td>\n",
       "      <td>-0.023901</td>\n",
       "      <td>0.001439</td>\n",
       "      <td>-0.094353</td>\n",
       "      <td>-0.042733</td>\n",
       "      <td>-0.057256</td>\n",
       "      <td>-0.049730</td>\n",
       "      <td>-0.077099</td>\n",
       "      <td>-0.093064</td>\n",
       "      <td>...</td>\n",
       "      <td>-0.039157</td>\n",
       "      <td>1.000000</td>\n",
       "      <td>-0.018924</td>\n",
       "      <td>-0.002423</td>\n",
       "      <td>-0.039157</td>\n",
       "      <td>-0.099434</td>\n",
       "      <td>0.056505</td>\n",
       "      <td>0.056629</td>\n",
       "      <td>-0.077985</td>\n",
       "      <td>-0.041784</td>\n",
       "    </tr>\n",
       "    <tr>\n",
       "      <th>musical</th>\n",
       "      <td>-0.059381</td>\n",
       "      <td>-0.000222</td>\n",
       "      <td>0.005158</td>\n",
       "      <td>-0.007312</td>\n",
       "      <td>0.015643</td>\n",
       "      <td>-0.100432</td>\n",
       "      <td>-0.022327</td>\n",
       "      <td>0.335231</td>\n",
       "      <td>0.312567</td>\n",
       "      <td>0.030566</td>\n",
       "      <td>...</td>\n",
       "      <td>-0.028384</td>\n",
       "      <td>-0.018924</td>\n",
       "      <td>1.000000</td>\n",
       "      <td>-0.042581</td>\n",
       "      <td>-0.028384</td>\n",
       "      <td>0.023506</td>\n",
       "      <td>-0.068012</td>\n",
       "      <td>-0.100690</td>\n",
       "      <td>-0.034429</td>\n",
       "      <td>-0.030245</td>\n",
       "    </tr>\n",
       "    <tr>\n",
       "      <th>mystery</th>\n",
       "      <td>-0.028561</td>\n",
       "      <td>0.004334</td>\n",
       "      <td>0.024308</td>\n",
       "      <td>0.002421</td>\n",
       "      <td>0.015848</td>\n",
       "      <td>-0.054084</td>\n",
       "      <td>-0.043503</td>\n",
       "      <td>-0.042488</td>\n",
       "      <td>-0.052786</td>\n",
       "      <td>-0.105346</td>\n",
       "      <td>...</td>\n",
       "      <td>0.215354</td>\n",
       "      <td>-0.002423</td>\n",
       "      <td>-0.042581</td>\n",
       "      <td>1.000000</td>\n",
       "      <td>0.215354</td>\n",
       "      <td>-0.040162</td>\n",
       "      <td>-0.028273</td>\n",
       "      <td>0.225281</td>\n",
       "      <td>-0.055482</td>\n",
       "      <td>-0.029727</td>\n",
       "    </tr>\n",
       "    <tr>\n",
       "      <th>noir</th>\n",
       "      <td>-0.019655</td>\n",
       "      <td>0.004701</td>\n",
       "      <td>0.033495</td>\n",
       "      <td>0.005246</td>\n",
       "      <td>0.060259</td>\n",
       "      <td>-0.080288</td>\n",
       "      <td>-0.014178</td>\n",
       "      <td>0.037013</td>\n",
       "      <td>-0.038033</td>\n",
       "      <td>-0.101425</td>\n",
       "      <td>...</td>\n",
       "      <td>1.000000</td>\n",
       "      <td>-0.039157</td>\n",
       "      <td>-0.028384</td>\n",
       "      <td>0.215354</td>\n",
       "      <td>1.000000</td>\n",
       "      <td>-0.047351</td>\n",
       "      <td>-0.004056</td>\n",
       "      <td>0.115231</td>\n",
       "      <td>-0.036984</td>\n",
       "      <td>-0.019816</td>\n",
       "    </tr>\n",
       "    <tr>\n",
       "      <th>romance</th>\n",
       "      <td>-0.118375</td>\n",
       "      <td>0.006834</td>\n",
       "      <td>0.017503</td>\n",
       "      <td>-0.014018</td>\n",
       "      <td>0.009644</td>\n",
       "      <td>-0.067830</td>\n",
       "      <td>-0.024389</td>\n",
       "      <td>-0.054540</td>\n",
       "      <td>-0.084550</td>\n",
       "      <td>0.112843</td>\n",
       "      <td>...</td>\n",
       "      <td>-0.047351</td>\n",
       "      <td>-0.099434</td>\n",
       "      <td>0.023506</td>\n",
       "      <td>-0.040162</td>\n",
       "      <td>-0.047351</td>\n",
       "      <td>1.000000</td>\n",
       "      <td>-0.133752</td>\n",
       "      <td>-0.081384</td>\n",
       "      <td>0.053347</td>\n",
       "      <td>-0.044650</td>\n",
       "    </tr>\n",
       "    <tr>\n",
       "      <th>sci</th>\n",
       "      <td>-0.011747</td>\n",
       "      <td>-0.003283</td>\n",
       "      <td>-0.010879</td>\n",
       "      <td>0.026250</td>\n",
       "      <td>-0.044487</td>\n",
       "      <td>0.319117</td>\n",
       "      <td>0.284190</td>\n",
       "      <td>-0.055526</td>\n",
       "      <td>-0.038844</td>\n",
       "      <td>-0.187079</td>\n",
       "      <td>...</td>\n",
       "      <td>-0.004056</td>\n",
       "      <td>0.056505</td>\n",
       "      <td>-0.068012</td>\n",
       "      <td>-0.028273</td>\n",
       "      <td>-0.004056</td>\n",
       "      <td>-0.133752</td>\n",
       "      <td>1.000000</td>\n",
       "      <td>0.102546</td>\n",
       "      <td>0.039314</td>\n",
       "      <td>-0.010935</td>\n",
       "    </tr>\n",
       "    <tr>\n",
       "      <th>thriller</th>\n",
       "      <td>-0.058418</td>\n",
       "      <td>-0.001107</td>\n",
       "      <td>-0.014100</td>\n",
       "      <td>0.008981</td>\n",
       "      <td>-0.004806</td>\n",
       "      <td>0.202756</td>\n",
       "      <td>-0.038423</td>\n",
       "      <td>-0.085713</td>\n",
       "      <td>-0.132642</td>\n",
       "      <td>-0.299501</td>\n",
       "      <td>...</td>\n",
       "      <td>0.115231</td>\n",
       "      <td>0.056629</td>\n",
       "      <td>-0.100690</td>\n",
       "      <td>0.225281</td>\n",
       "      <td>0.115231</td>\n",
       "      <td>-0.081384</td>\n",
       "      <td>0.102546</td>\n",
       "      <td>1.000000</td>\n",
       "      <td>-0.088018</td>\n",
       "      <td>-0.058897</td>\n",
       "    </tr>\n",
       "    <tr>\n",
       "      <th>war</th>\n",
       "      <td>-0.081951</td>\n",
       "      <td>0.003502</td>\n",
       "      <td>0.038446</td>\n",
       "      <td>0.010264</td>\n",
       "      <td>0.075688</td>\n",
       "      <td>0.135872</td>\n",
       "      <td>0.016647</td>\n",
       "      <td>-0.046114</td>\n",
       "      <td>-0.066539</td>\n",
       "      <td>-0.127101</td>\n",
       "      <td>...</td>\n",
       "      <td>-0.036984</td>\n",
       "      <td>-0.077985</td>\n",
       "      <td>-0.034429</td>\n",
       "      <td>-0.055482</td>\n",
       "      <td>-0.036984</td>\n",
       "      <td>0.053347</td>\n",
       "      <td>0.039314</td>\n",
       "      <td>-0.088018</td>\n",
       "      <td>1.000000</td>\n",
       "      <td>-0.019803</td>\n",
       "    </tr>\n",
       "    <tr>\n",
       "      <th>western</th>\n",
       "      <td>0.003940</td>\n",
       "      <td>0.004114</td>\n",
       "      <td>0.038177</td>\n",
       "      <td>0.005924</td>\n",
       "      <td>0.007311</td>\n",
       "      <td>0.022242</td>\n",
       "      <td>-0.011964</td>\n",
       "      <td>-0.030908</td>\n",
       "      <td>-0.031269</td>\n",
       "      <td>0.007927</td>\n",
       "      <td>...</td>\n",
       "      <td>-0.019816</td>\n",
       "      <td>-0.041784</td>\n",
       "      <td>-0.030245</td>\n",
       "      <td>-0.029727</td>\n",
       "      <td>-0.019816</td>\n",
       "      <td>-0.044650</td>\n",
       "      <td>-0.010935</td>\n",
       "      <td>-0.058897</td>\n",
       "      <td>-0.019803</td>\n",
       "      <td>1.000000</td>\n",
       "    </tr>\n",
       "  </tbody>\n",
       "</table>\n",
       "<p>25 rows × 25 columns</p>\n",
       "</div>"
      ],
      "text/plain": [
       "              MovieID    UserID       Age  Occupation    Rating    action  \\\n",
       "MovieID      1.000000 -0.017739  0.027575    0.008585 -0.064042 -0.042046   \n",
       "UserID      -0.017739  1.000000  0.034688   -0.026698  0.012303 -0.002023   \n",
       "Age          0.027575  0.034688  1.000000    0.078371  0.056869 -0.030975   \n",
       "Occupation   0.008585 -0.026698  0.078371    1.000000  0.006753  0.018347   \n",
       "Rating      -0.064042  0.012303  0.056869    0.006753  1.000000 -0.047633   \n",
       "action      -0.042046 -0.002023 -0.030975    0.018347 -0.047633  1.000000   \n",
       "adventure   -0.082413 -0.000683 -0.016730    0.014309 -0.036718  0.374961   \n",
       "animation   -0.014177 -0.007665 -0.047020   -0.003834  0.019670 -0.110294   \n",
       "children    -0.071589 -0.004862 -0.052858   -0.006906 -0.039829 -0.141314   \n",
       "comedy       0.061667 -0.003651 -0.044046   -0.006149 -0.039622 -0.268092   \n",
       "crime       -0.061896  0.003469 -0.007931    0.002821  0.033446  0.088519   \n",
       "documentary -0.009544 -0.001064  0.004407   -0.002689  0.028098 -0.052565   \n",
       "drama       -0.030856  0.006572  0.063856   -0.012326  0.122561 -0.202415   \n",
       "fantasy     -0.018792  0.002212 -0.024222    0.001299 -0.023312  0.014551   \n",
       "fi          -0.011747 -0.003283 -0.010879    0.026250 -0.044487  0.319117   \n",
       "film        -0.019655  0.004701  0.033495    0.005246  0.060259 -0.080288   \n",
       "horror       0.057613 -0.001392 -0.023901    0.001439 -0.094353 -0.042733   \n",
       "musical     -0.059381 -0.000222  0.005158   -0.007312  0.015643 -0.100432   \n",
       "mystery     -0.028561  0.004334  0.024308    0.002421  0.015848 -0.054084   \n",
       "noir        -0.019655  0.004701  0.033495    0.005246  0.060259 -0.080288   \n",
       "romance     -0.118375  0.006834  0.017503   -0.014018  0.009644 -0.067830   \n",
       "sci         -0.011747 -0.003283 -0.010879    0.026250 -0.044487  0.319117   \n",
       "thriller    -0.058418 -0.001107 -0.014100    0.008981 -0.004806  0.202756   \n",
       "war         -0.081951  0.003502  0.038446    0.010264  0.075688  0.135872   \n",
       "western      0.003940  0.004114  0.038177    0.005924  0.007311  0.022242   \n",
       "\n",
       "             adventure  animation  children    comedy  ...      film  \\\n",
       "MovieID      -0.082413  -0.014177 -0.071589  0.061667  ... -0.019655   \n",
       "UserID       -0.000683  -0.007665 -0.004862 -0.003651  ...  0.004701   \n",
       "Age          -0.016730  -0.047020 -0.052858 -0.044046  ...  0.033495   \n",
       "Occupation    0.014309  -0.003834 -0.006906 -0.006149  ...  0.005246   \n",
       "Rating       -0.036718   0.019670 -0.039829 -0.039622  ...  0.060259   \n",
       "action        0.374961  -0.110294 -0.141314 -0.268092  ... -0.080288   \n",
       "adventure     1.000000   0.004732  0.098283 -0.124960  ... -0.014178   \n",
       "animation     0.004732   1.000000  0.576204  0.018544  ...  0.037013   \n",
       "children      0.098283   0.576204  1.000000  0.058711  ... -0.038033   \n",
       "comedy       -0.124960   0.018544  0.058711  1.000000  ... -0.101425   \n",
       "crime        -0.045924  -0.062520 -0.081977 -0.078030  ...  0.136237   \n",
       "documentary  -0.035109  -0.018991 -0.024901 -0.040697  ... -0.012175   \n",
       "drama        -0.194570  -0.154479 -0.135707 -0.249840  ... -0.067297   \n",
       "fantasy       0.227046   0.012025  0.263280 -0.006010  ... -0.026464   \n",
       "fi            0.284190  -0.055526 -0.038844 -0.187079  ... -0.004056   \n",
       "film         -0.014178   0.037013 -0.038033 -0.101425  ...  1.000000   \n",
       "horror       -0.057256  -0.049730 -0.077099 -0.093064  ... -0.039157   \n",
       "musical      -0.022327   0.335231  0.312567  0.030566  ... -0.028384   \n",
       "mystery      -0.043503  -0.042488 -0.052786 -0.105346  ...  0.215354   \n",
       "noir         -0.014178   0.037013 -0.038033 -0.101425  ...  1.000000   \n",
       "romance      -0.024389  -0.054540 -0.084550  0.112843  ... -0.047351   \n",
       "sci           0.284190  -0.055526 -0.038844 -0.187079  ... -0.004056   \n",
       "thriller     -0.038423  -0.085713 -0.132642 -0.299501  ...  0.115231   \n",
       "war           0.016647  -0.046114 -0.066539 -0.127101  ... -0.036984   \n",
       "western      -0.011964  -0.030908 -0.031269  0.007927  ... -0.019816   \n",
       "\n",
       "               horror   musical   mystery      noir   romance       sci  \\\n",
       "MovieID      0.057613 -0.059381 -0.028561 -0.019655 -0.118375 -0.011747   \n",
       "UserID      -0.001392 -0.000222  0.004334  0.004701  0.006834 -0.003283   \n",
       "Age         -0.023901  0.005158  0.024308  0.033495  0.017503 -0.010879   \n",
       "Occupation   0.001439 -0.007312  0.002421  0.005246 -0.014018  0.026250   \n",
       "Rating      -0.094353  0.015643  0.015848  0.060259  0.009644 -0.044487   \n",
       "action      -0.042733 -0.100432 -0.054084 -0.080288 -0.067830  0.319117   \n",
       "adventure   -0.057256 -0.022327 -0.043503 -0.014178 -0.024389  0.284190   \n",
       "animation   -0.049730  0.335231 -0.042488  0.037013 -0.054540 -0.055526   \n",
       "children    -0.077099  0.312567 -0.052786 -0.038033 -0.084550 -0.038844   \n",
       "comedy      -0.093064  0.030566 -0.105346 -0.101425  0.112843 -0.187079   \n",
       "crime       -0.047899 -0.061179  0.080093  0.136237 -0.073320 -0.083730   \n",
       "documentary -0.025673 -0.007155 -0.018265 -0.012175 -0.037137 -0.038568   \n",
       "drama       -0.189551 -0.094778 -0.027689 -0.067297  0.023552 -0.212747   \n",
       "fantasy     -0.055803 -0.020134 -0.039700 -0.026464 -0.014822  0.121843   \n",
       "fi           0.056505 -0.068012 -0.028273 -0.004056 -0.133752  1.000000   \n",
       "film        -0.039157 -0.028384  0.215354  1.000000 -0.047351 -0.004056   \n",
       "horror       1.000000 -0.018924 -0.002423 -0.039157 -0.099434  0.056505   \n",
       "musical     -0.018924  1.000000 -0.042581 -0.028384  0.023506 -0.068012   \n",
       "mystery     -0.002423 -0.042581  1.000000  0.215354 -0.040162 -0.028273   \n",
       "noir        -0.039157 -0.028384  0.215354  1.000000 -0.047351 -0.004056   \n",
       "romance     -0.099434  0.023506 -0.040162 -0.047351  1.000000 -0.133752   \n",
       "sci          0.056505 -0.068012 -0.028273 -0.004056 -0.133752  1.000000   \n",
       "thriller     0.056629 -0.100690  0.225281  0.115231 -0.081384  0.102546   \n",
       "war         -0.077985 -0.034429 -0.055482 -0.036984  0.053347  0.039314   \n",
       "western     -0.041784 -0.030245 -0.029727 -0.019816 -0.044650 -0.010935   \n",
       "\n",
       "             thriller       war   western  \n",
       "MovieID     -0.058418 -0.081951  0.003940  \n",
       "UserID      -0.001107  0.003502  0.004114  \n",
       "Age         -0.014100  0.038446  0.038177  \n",
       "Occupation   0.008981  0.010264  0.005924  \n",
       "Rating      -0.004806  0.075688  0.007311  \n",
       "action       0.202756  0.135872  0.022242  \n",
       "adventure   -0.038423  0.016647 -0.011964  \n",
       "animation   -0.085713 -0.046114 -0.030908  \n",
       "children    -0.132642 -0.066539 -0.031269  \n",
       "comedy      -0.299501 -0.127101  0.007927  \n",
       "crime        0.115095 -0.079715 -0.042711  \n",
       "documentary -0.043191 -0.016082 -0.012974  \n",
       "drama       -0.153717  0.136582 -0.045945  \n",
       "fantasy     -0.087374 -0.044928 -0.028199  \n",
       "fi           0.102546  0.039314 -0.010935  \n",
       "film         0.115231 -0.036984 -0.019816  \n",
       "horror       0.056629 -0.077985 -0.041784  \n",
       "musical     -0.100690 -0.034429 -0.030245  \n",
       "mystery      0.225281 -0.055482 -0.029727  \n",
       "noir         0.115231 -0.036984 -0.019816  \n",
       "romance     -0.081384  0.053347 -0.044650  \n",
       "sci          0.102546  0.039314 -0.010935  \n",
       "thriller     1.000000 -0.088018 -0.058897  \n",
       "war         -0.088018  1.000000 -0.019803  \n",
       "western     -0.058897 -0.019803  1.000000  \n",
       "\n",
       "[25 rows x 25 columns]"
      ]
     },
     "execution_count": 23,
     "metadata": {},
     "output_type": "execute_result"
    }
   ],
   "source": [
    "corr = master_df.corr()\n",
    "corr"
   ]
  },
  {
   "cell_type": "code",
   "execution_count": 24,
   "metadata": {},
   "outputs": [
    {
     "data": {
      "image/png": "[encoded data removed]",
      "text/plain": [
       "<Figure size 1080x720 with 2 Axes>"
      ]
     },
     "metadata": {
      "needs_background": "light"
     },
     "output_type": "display_data"
    }
   ],
   "source": [
    "plt.figure(figsize=(15, 10))\n",
    "sns.heatmap(corr)\n",
    "plt.xticks(rotation=90)\n",
    "plt.show()"
   ]
  },
  {
   "cell_type": "code",
   "execution_count": 25,
   "metadata": {},
   "outputs": [
    {
     "data": {
      "text/plain": [
       "array(['drama', 'war', 'noir', 'film', 'Age', 'crime', 'documentary',\n",
       "       'animation', 'mystery', 'musical', 'UserID', 'romance', 'western',\n",
       "       'Occupation', 'thriller', 'fantasy', 'adventure', 'comedy',\n",
       "       'children', 'fi', 'sci', 'action', 'MovieID', 'horror'],\n",
       "      dtype=object)"
      ]
     },
     "execution_count": 25,
     "metadata": {},
     "output_type": "execute_result"
    }
   ],
   "source": [
    "corr['Rating'].sort_values(ascending=False)[1:].index.values"
   ]
  },
  {
   "cell_type": "markdown",
   "metadata": {},
   "source": [
    "As we can see the correlation for rating are mostly with the genres, age and userID. We can use plots to check few of them. Above are the impacting factors for ratings. Based on genres, people show their interests. Based on the content and performance of the movies, they get high ratings. Finally users are the most important factor as they see movies and give ratings based on their likeness. We can confirm above statements by analysing with plots."
   ]
  },
  {
   "cell_type": "markdown",
   "metadata": {},
   "source": [
    "As UserID and MovieID are continuous and large values and they are just ids. If we visualize, it wont give any proper insights."
   ]
  },
  {
   "cell_type": "code",
   "execution_count": 26,
   "metadata": {},
   "outputs": [
    {
     "data": {
      "image/png": "[encoded data removed]",
      "text/plain": [
       "<Figure size 432x288 with 2 Axes>"
      ]
     },
     "metadata": {
      "needs_background": "light"
     },
     "output_type": "display_data"
    }
   ],
   "source": [
    "fig, ax = plt.subplots(1,2)\n",
    "sns.scatterplot(x='MovieID', y='Rating', data=master_df, ax=ax[0])\n",
    "sns.scatterplot(x='UserID', y='Rating', data=master_df, ax=ax[1])\n",
    "plt.show()"
   ]
  },
  {
   "cell_type": "markdown",
   "metadata": {},
   "source": [
    "So all the users give different ratings and each movie also gets different ratings.\n",
    "\n",
    "Now we can check for any relation between Age and Rating."
   ]
  },
  {
   "cell_type": "code",
   "execution_count": 27,
   "metadata": {},
   "outputs": [
    {
     "data": {
      "image/png": "[encoded data removed]",
      "text/plain": [
       "<Figure size 864x432 with 1 Axes>"
      ]
     },
     "metadata": {
      "needs_background": "light"
     },
     "output_type": "display_data"
    }
   ],
   "source": [
    "# Check Age and Rating\n",
    "plt.figure(figsize=(12,6))\n",
    "sns.countplot(x='Age', hue='Rating', data=master_df)\n",
    "plt.show()"
   ]
  },
  {
   "cell_type": "code",
   "execution_count": 28,
   "metadata": {},
   "outputs": [
    {
     "data": {
      "image/png": "[encoded data removed]",
      "text/plain": [
       "<Figure size 432x288 with 1 Axes>"
      ]
     },
     "metadata": {
      "needs_background": "light"
     },
     "output_type": "display_data"
    }
   ],
   "source": [
    "avg_rating_per_age = master_df.groupby('Age')['Rating'].mean()\n",
    "sns.barplot(avg_rating_per_age.index, avg_rating_per_age.values)\n",
    "plt.show()"
   ]
  },
  {
   "cell_type": "markdown",
   "metadata": {},
   "source": [
    "We can see, the age group 25 gives more ratings than the others. But if we compare each ratings, the pattern is same for each type of age. They all give rating 4 and 5 most of the times annd then 3 and rarely give 1 and 2 ratings. All the age group give similar average rating to movies.\n",
    "\n",
    "Similarly we can check for the Occupatio and Rating."
   ]
  },
  {
   "cell_type": "code",
   "execution_count": 29,
   "metadata": {},
   "outputs": [
    {
     "data": {
      "image/png": "[encoded data removed]",
      "text/plain": [
       "<Figure size 864x432 with 1 Axes>"
      ]
     },
     "metadata": {
      "needs_background": "light"
     },
     "output_type": "display_data"
    }
   ],
   "source": [
    "# Check Occupation and Rating\n",
    "\n",
    "plt.figure(figsize=(12,6))\n",
    "sns.countplot(x='Occupation', hue='Rating', data=master_df)\n",
    "plt.show()"
   ]
  },
  {
   "cell_type": "code",
   "execution_count": 30,
   "metadata": {},
   "outputs": [
    {
     "data": {
      "image/png": "[encoded data removed]",
      "text/plain": [
       "<Figure size 432x288 with 1 Axes>"
      ]
     },
     "metadata": {
      "needs_background": "light"
     },
     "output_type": "display_data"
    }
   ],
   "source": [
    "avg_rating_per_Occu = master_df.groupby('Occupation')['Rating'].mean()\n",
    "sns.barplot(avg_rating_per_Occu.index, avg_rating_per_Occu.values)\n",
    "plt.show()"
   ]
  },
  {
   "cell_type": "markdown",
   "metadata": {},
   "source": [
    "People in all occupation give rating in similar way, they give rating 3,4,5 most of the time. Occupation types 0 to 7 they usually watch more movies and rate them than others. Again the average rating by all of them are similar.\n",
    "\n",
    "Movie gere can be a factor for the ratings. So for each rating, we can analyze."
   ]
  },
  {
   "cell_type": "code",
   "execution_count": 31,
   "metadata": {},
   "outputs": [
    {
     "data": {
      "image/png": "[encoded data removed]",
      "text/plain": [
       "<Figure size 432x288 with 1 Axes>"
      ]
     },
     "metadata": {
      "needs_background": "light"
     },
     "output_type": "display_data"
    },
    {
     "data": {
      "image/png": "[encoded data removed]",
      "text/plain": [
       "<Figure size 432x288 with 1 Axes>"
      ]
     },
     "metadata": {
      "needs_background": "light"
     },
     "output_type": "display_data"
    },
    {
     "data": {
      "image/png": "[encoded data removed]",
      "text/plain": [
       "<Figure size 432x288 with 1 Axes>"
      ]
     },
     "metadata": {
      "needs_background": "light"
     },
     "output_type": "display_data"
    },
    {
     "data": {
      "image/png": "[encoded data removed]",
      "text/plain": [
       "<Figure size 432x288 with 1 Axes>"
      ]
     },
     "metadata": {
      "needs_background": "light"
     },
     "output_type": "display_data"
    },
    {
     "data": {
      "image/png": "[encoded data removed]",
      "text/plain": [
       "<Figure size 432x288 with 1 Axes>"
      ]
     },
     "metadata": {
      "needs_background": "light"
     },
     "output_type": "display_data"
    },
    {
     "data": {
      "image/png": "[encoded data removed]",
      "text/plain": [
       "<Figure size 432x288 with 1 Axes>"
      ]
     },
     "metadata": {
      "needs_background": "light"
     },
     "output_type": "display_data"
    }
   ],
   "source": [
    "geners = master_df.columns[-20:]\n",
    "for i in range(1,6):\n",
    "    rating_i = master_df[geners][master_df['Rating'] == i]\n",
    "    \n",
    "    sns.barplot(geners, rating_i.sum())\n",
    "    plt.xticks(rotation=90)\n",
    "    plt.title('For Rating ' + str(i))\n",
    "    plt.show()\n",
    "    \n",
    "rating_counts = master_df[geners]   \n",
    "sns.barplot(geners, rating_counts.sum())\n",
    "plt.xticks(rotation=90)\n",
    "plt.title('Overall Counts')\n",
    "plt.show()    "
   ]
  },
  {
   "cell_type": "markdown",
   "metadata": {},
   "source": [
    "We are almost getting the similar pattern in case of all the ratings.\n",
    "\n",
    "Movies with genre Drama gets high rating 3,4,5 with high counts. Comedy movies get all types of ratings.\n",
    "\n",
    "So we can say, all the movie types get homogeneous ratings.\n",
    "\n",
    "Through EDA, we are not getting enough insights on the data and its difficult to check the features affecting the ratings.\n",
    "\n",
    "So we can build models on these data and try to get the scores and feature importances."
   ]
  },
  {
   "cell_type": "code",
   "execution_count": 32,
   "metadata": {},
   "outputs": [],
   "source": [
    "# Preprocessings\n",
    "\n",
    "# As we have movieID, we dont need Title\n",
    "master_df.drop('Title', axis=1, inplace=True)\n",
    "\n",
    "x = master_df.drop('Rating', axis=1)\n",
    "y = master_df['Rating']"
   ]
  },
  {
   "cell_type": "code",
   "execution_count": 33,
   "metadata": {},
   "outputs": [
    {
     "name": "stdout",
     "output_type": "stream",
     "text": [
      "(1000209, 22)\n",
      "(1000209,)\n"
     ]
    }
   ],
   "source": [
    "# Lets try with all features except movieID and userID.\n",
    "\n",
    "x_1 = x.iloc[:, 2:]\n",
    "\n",
    "print(x_1.shape)\n",
    "print(y.shape)"
   ]
  },
  {
   "cell_type": "code",
   "execution_count": 34,
   "metadata": {},
   "outputs": [],
   "source": [
    "# Standardize the data\n",
    "\n",
    "sc = StandardScaler()\n",
    "x_1 = sc.fit_transform(x_1)\n",
    "x = sc.fit_transform(x)"
   ]
  },
  {
   "cell_type": "code",
   "execution_count": 35,
   "metadata": {},
   "outputs": [
    {
     "name": "stdout",
     "output_type": "stream",
     "text": [
      "(750156, 22)\n",
      "(250053, 22)\n",
      "(750156,)\n",
      "(250053,)\n",
      "(750156, 24)\n",
      "(250053, 24)\n",
      "(750156,)\n",
      "(250053,)\n"
     ]
    }
   ],
   "source": [
    "x_train_1, x_test_1, y_train_1, y_test_1 = train_test_split(x_1, y)\n",
    "x_train, x_test, y_train, y_test = train_test_split(x, y)\n",
    "\n",
    "print(x_train_1.shape)\n",
    "print(x_test_1.shape)\n",
    "print(y_train_1.shape)\n",
    "print(y_test_1.shape)\n",
    "\n",
    "print(x_train.shape)\n",
    "print(x_test.shape)\n",
    "print(y_train.shape)\n",
    "print(y_test.shape)"
   ]
  },
  {
   "cell_type": "code",
   "execution_count": 36,
   "metadata": {},
   "outputs": [
    {
     "data": {
      "text/plain": [
       "LogisticRegression(multi_class='multinomial')"
      ]
     },
     "execution_count": 36,
     "metadata": {},
     "output_type": "execute_result"
    }
   ],
   "source": [
    "# Logistic Regression\n",
    "\n",
    "lrc1 = LogisticRegression(multi_class='multinomial')\n",
    "lrc1.fit(x_train_1, y_train_1)"
   ]
  },
  {
   "cell_type": "code",
   "execution_count": 37,
   "metadata": {},
   "outputs": [
    {
     "name": "stdout",
     "output_type": "stream",
     "text": [
      "LRC1 accuracy 0.3498978216618077\n"
     ]
    }
   ],
   "source": [
    "print('LRC1 accuracy', lrc1.score(x_test_1, y_test_1))"
   ]
  },
  {
   "cell_type": "code",
   "execution_count": 38,
   "metadata": {},
   "outputs": [
    {
     "data": {
      "text/plain": [
       "LogisticRegression(multi_class='multinomial')"
      ]
     },
     "execution_count": 38,
     "metadata": {},
     "output_type": "execute_result"
    }
   ],
   "source": [
    "lrc2 = LogisticRegression(multi_class='multinomial')\n",
    "lrc2.fit(x_train, y_train)"
   ]
  },
  {
   "cell_type": "code",
   "execution_count": 39,
   "metadata": {},
   "outputs": [
    {
     "name": "stdout",
     "output_type": "stream",
     "text": [
      "LRC2 accuracy 0.35159346218601656\n"
     ]
    }
   ],
   "source": [
    "print('LRC2 accuracy', lrc2.score(x_test, y_test))"
   ]
  },
  {
   "cell_type": "code",
   "execution_count": 40,
   "metadata": {},
   "outputs": [
    {
     "name": "stdout",
     "output_type": "stream",
     "text": [
      "F1-score for LRC1  0.14110934946328652\n",
      "F1-score for LRC2  0.14714795057275598\n"
     ]
    }
   ],
   "source": [
    "# Both of them similar ccuracy. We can go for F1 score\n",
    "y_pred_1 = lrc1.predict(x_test_1)\n",
    "y_pred = lrc2.predict(x_test)\n",
    "\n",
    "print('F1-score for LRC1 ', f1_score(y_test_1, y_pred_1, average='macro'))\n",
    "print('F1-score for LRC2 ', f1_score(y_test, y_pred, average='macro'))"
   ]
  },
  {
   "cell_type": "markdown",
   "metadata": {},
   "source": [
    "We are getting similar result. So we can finalize the model which takes all the features. Now onwards we can add UserId and MovieId.\n",
    "\n",
    "Now we can check the coefficients from the model for each rating and check the feature scores."
   ]
  },
  {
   "cell_type": "code",
   "execution_count": 41,
   "metadata": {},
   "outputs": [
    {
     "name": "stdout",
     "output_type": "stream",
     "text": [
      "24\n",
      "24\n"
     ]
    }
   ],
   "source": [
    "features = [f for f in master_df.columns if f != 'Rating']\n",
    "print(len(features))\n",
    "print(x.shape[1])"
   ]
  },
  {
   "cell_type": "code",
   "execution_count": 42,
   "metadata": {},
   "outputs": [],
   "source": [
    "coeffs = lrc2.coef_"
   ]
  },
  {
   "cell_type": "code",
   "execution_count": 43,
   "metadata": {},
   "outputs": [
    {
     "data": {
      "image/png": "[encoded data removed]",
      "text/plain": [
       "<Figure size 720x576 with 1 Axes>"
      ]
     },
     "metadata": {
      "needs_background": "light"
     },
     "output_type": "display_data"
    },
    {
     "data": {
      "image/png": "[encoded data removed]",
      "text/plain": [
       "<Figure size 720x576 with 1 Axes>"
      ]
     },
     "metadata": {
      "needs_background": "light"
     },
     "output_type": "display_data"
    },
    {
     "data": {
      "image/png": "[encoded data removed]",
      "text/plain": [
       "<Figure size 720x576 with 1 Axes>"
      ]
     },
     "metadata": {
      "needs_background": "light"
     },
     "output_type": "display_data"
    },
    {
     "data": {
      "image/png": "[encoded data removed]",
      "text/plain": [
       "<Figure size 720x576 with 1 Axes>"
      ]
     },
     "metadata": {
      "needs_background": "light"
     },
     "output_type": "display_data"
    },
    {
     "data": {
      "image/png": "[encoded data removed]",
      "text/plain": [
       "<Figure size 720x576 with 1 Axes>"
      ]
     },
     "metadata": {
      "needs_background": "light"
     },
     "output_type": "display_data"
    }
   ],
   "source": [
    "for i in range(1,6):\n",
    "    coeff = coeffs[i-1]\n",
    "    plt.figure(figsize=(10,8))\n",
    "    sns.barplot(features, coeff)\n",
    "    plt.title('For Rating ' + str(i))\n",
    "    plt.xticks(rotation = 90)\n",
    "    plt.show()"
   ]
  },
  {
   "cell_type": "markdown",
   "metadata": {},
   "source": [
    "The coeff values certainly match with the rating counts we got in EDA for each rating and genres.\n",
    "\n",
    "For high ratings like 4,5, the Drama, adventure, war genre affects it positively. For low ratings like 1,2, children and horror genres affects the most. The Age also contributes to the rating in some extent. \n",
    "\n",
    "For low ratings, movieID also give impact. Maybe these low ratings are specific to movies. UserID doesnt have much impact.\n",
    "\n",
    "There are other genres which also have few impacts on the ratings."
   ]
  },
  {
   "cell_type": "code",
   "execution_count": 44,
   "metadata": {},
   "outputs": [
    {
     "name": "stdout",
     "output_type": "stream",
     "text": [
      "RFC accuracy  0.3416675664759071\n",
      "F1 score for RFC  0.29610982719835\n"
     ]
    }
   ],
   "source": [
    "# RandomForestClassifier\n",
    "\n",
    "rfc = RandomForestClassifier()\n",
    "rfc.fit(x_train, y_train)\n",
    "y_pred = rfc.predict(x_test)\n",
    "\n",
    "print('RFC accuracy ', rfc.score(x_test, y_test))\n",
    "print('F1 score for RFC ', f1_score(y_test, y_pred, average='macro'))"
   ]
  },
  {
   "cell_type": "code",
   "execution_count": 45,
   "metadata": {},
   "outputs": [
    {
     "data": {
      "image/png": "[encoded data removed]",
      "text/plain": [
       "<Figure size 720x576 with 1 Axes>"
      ]
     },
     "metadata": {
      "needs_background": "light"
     },
     "output_type": "display_data"
    }
   ],
   "source": [
    "# plot feature importances\n",
    "\n",
    "plt.figure(figsize=(10,8))\n",
    "sns.barplot(features, rfc.feature_importances_)\n",
    "plt.xticks(rotation = 90)\n",
    "plt.show()"
   ]
  },
  {
   "cell_type": "markdown",
   "metadata": {},
   "source": [
    "Here, userID, movieID give much high importances, by which others are getting negalated. So we can again plot only with the Genres features."
   ]
  },
  {
   "cell_type": "code",
   "execution_count": 46,
   "metadata": {},
   "outputs": [
    {
     "data": {
      "image/png": "[encoded data removed]",
      "text/plain": [
       "<Figure size 720x576 with 1 Axes>"
      ]
     },
     "metadata": {
      "needs_background": "light"
     },
     "output_type": "display_data"
    }
   ],
   "source": [
    "plt.figure(figsize=(10,8))\n",
    "sns.barplot(features[-20:], rfc.feature_importances_[-20:])\n",
    "plt.xticks(rotation = 90)\n",
    "plt.show()"
   ]
  },
  {
   "cell_type": "markdown",
   "metadata": {},
   "source": [
    "From this, we can say movies with genre as Drama, Comedy, Thriller, Romance and Action affects the most on deciding the ratings.\n",
    "\n",
    "Both the models give similar accuarcy, but random forest gives more f1-score. So we can use that for prediction."
   ]
  }
 ],
 "metadata": {
  "kernelspec": {
   "display_name": "Python 3",
   "language": "python",
   "name": "python3"
  },
  "language_info": {
   "codemirror_mode": {
    "name": "ipython",
    "version": 3
   },
   "file_extension": ".py",
   "mimetype": "text/x-python",
   "name": "python",
   "nbconvert_exporter": "python",
   "pygments_lexer": "ipython3",
   "version": "3.6.3rc1"
  }
 },
 "nbformat": 4,
 "nbformat_minor": 4
}
